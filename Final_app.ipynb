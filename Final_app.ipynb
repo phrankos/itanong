{
  "cells": [
    {
      "cell_type": "markdown",
      "id": "0d6aba5a-abde-4e41-8a54-ef7e0de9e8a3",
      "metadata": {
        "id": "0d6aba5a-abde-4e41-8a54-ef7e0de9e8a3"
      },
      "source": [
        "# Query Pipeline over Pandas DataFrames\n",
        "\n",
        "This is a simple example that builds a query pipeline that can perform structured operations over a Pandas DataFrame to satisfy a user query, using LLMs to infer the set of operations.\n",
        "\n",
        "This can be treated as the \"from-scratch\" version of our `PandasQueryEngine`."
      ]
    },
    {
      "cell_type": "code",
      "execution_count": 1,
      "id": "DYk4RfQ8bBYk",
      "metadata": {
        "id": "DYk4RfQ8bBYk"
      },
      "outputs": [],
      "source": [
        "import os\n",
        "import openai\n",
        "from dotenv import load_dotenv\n",
        "\n",
        "load_dotenv()\n",
        "openai.api_key = os.getenv(\"OPENAI_API_KEY\")"
      ]
    },
    {
      "cell_type": "markdown",
      "id": "855f9f50-ef38-4069-932a-fb49af02d28e",
      "metadata": {
        "id": "855f9f50-ef38-4069-932a-fb49af02d28e"
      },
      "source": [
        "# Query Pipeline for Advanced Text-to-SQL\n",
        "\n",
        "In this guide we show you how to setup a text-to-SQL pipeline over your data with our [query pipeline](https://docs.llamaindex.ai/en/stable/module_guides/querying/pipeline/root.html) syntax.\n",
        "\n",
        "This gives you flexibility to enhance text-to-SQL with additional techniques. We show these in the below sections:\n",
        "1. **Query-Time Table Retrieval**: Dynamically retrieve relevant tables in the text-to-SQL prompt.\n",
        "2. **Query-Time Sample Row retrieval**: Embed/Index each row, and dynamically retrieve example rows for each table in the text-to-SQL prompt.\n",
        "\n",
        "Our out-of-the box pipelines include our `NLSQLTableQueryEngine` and `SQLTableRetrieverQueryEngine`. (if you want to check out our text-to-SQL guide using these modules, take a look [here](https://docs.llamaindex.ai/en/stable/examples/index_structs/struct_indices/SQLIndexDemo.html)). This guide implements an advanced version of those modules, giving you the utmost flexibility to apply this to your own setting."
      ]
    },
    {
      "cell_type": "markdown",
      "id": "e39cc96c-9fbc-44c3-b57f-017a9aa75473",
      "metadata": {
        "id": "e39cc96c-9fbc-44c3-b57f-017a9aa75473"
      },
      "source": [
        "## Load and Ingest Data\n",
        "\n",
        "\n",
        "### Load Data\n",
        "We use the [WikiTableQuestions dataset](https://ppasupat.github.io/WikiTableQuestions/) (Pasupat and Liang 2015) as our test dataset.\n",
        "\n",
        "We go through all the csv's in one folder, store each in a sqlite database (we will then build an object index over each table schema)."
      ]
    },
    {
      "cell_type": "code",
      "execution_count": 2,
      "id": "5a710f7a-74b4-48c3-98d1-a6d409a7af1a",
      "metadata": {
        "id": "5a710f7a-74b4-48c3-98d1-a6d409a7af1a",
        "outputId": "fb840754-8360-459d-fe4b-bbe92b24475e"
      },
      "outputs": [
        {
          "name": "stdout",
          "output_type": "stream",
          "text": [
            "processing file: csv_data/Categories.csv\n",
            "processing file: csv_data/Products.csv\n"
          ]
        }
      ],
      "source": [
        "import pandas as pd\n",
        "from pathlib import Path\n",
        "\n",
        "data_dir = Path(\"./csv_data\")\n",
        "csv_files = sorted([f for f in data_dir.glob(\"*.csv\")])\n",
        "dfs = []\n",
        "for csv_file in csv_files:\n",
        "    print(f\"processing file: {csv_file}\")\n",
        "    try:\n",
        "        df = pd.read_csv(csv_file)\n",
        "        dfs.append(df)\n",
        "    except Exception as e:\n",
        "        print(f\"Error parsing {csv_file}: {str(e)}\")"
      ]
    },
    {
      "cell_type": "markdown",
      "id": "c271b986-9ed6-4a8a-a7c2-1dad7a642c06",
      "metadata": {
        "id": "c271b986-9ed6-4a8a-a7c2-1dad7a642c06"
      },
      "source": [
        "### Extract Table Name and Summary from each Table\n",
        "\n",
        "Here we use gpt-3.5 to extract a table name (with underscores) and summary from each table with our Pydantic program."
      ]
    },
    {
      "cell_type": "code",
      "execution_count": 3,
      "id": "4cef9585-87f8-4427-aaca-c0038c289e00",
      "metadata": {
        "id": "4cef9585-87f8-4427-aaca-c0038c289e00",
        "outputId": "03b3f4e4-93cf-4125-b745-a5f190208bbf"
      },
      "outputs": [
        {
          "name": "stderr",
          "output_type": "stream",
          "text": [
            "mkdir: cannot create directory ‘BOC_VegFruits_tableinfo’: File exists\n"
          ]
        },
        {
          "data": {
            "text/plain": [
              "256"
            ]
          },
          "execution_count": 3,
          "metadata": {},
          "output_type": "execute_result"
        }
      ],
      "source": [
        "tableinfo_dir = \"BOC_VegFruits_tableinfo\"\n",
        "os.system(f'mkdir {tableinfo_dir}')"
      ]
    },
    {
      "cell_type": "code",
      "execution_count": 4,
      "id": "9a81afbf-0870-41b1-baea-017026a1b7d6",
      "metadata": {
        "id": "9a81afbf-0870-41b1-baea-017026a1b7d6"
      },
      "outputs": [],
      "source": [
        "from llama_index.core.program import LLMTextCompletionProgram\n",
        "from pydantic import BaseModel, Field\n",
        "from typing import List\n",
        "\n",
        "from llama_index.program.openai import OpenAIPydanticProgram\n",
        "from llama_index.core import SQLDatabase\n",
        "from llama_index.llms.openai import OpenAI\n",
        "\n",
        "class TableInfo(BaseModel):\n",
        "    \"\"\"Information regarding a structured table.\"\"\"\n",
        "\n",
        "    table_name: str = Field(\n",
        "        ..., description=\"table name (must be underscores and NO spaces)\"\n",
        "    )\n",
        "    table_summary: str = Field(\n",
        "        ..., description=\"short, concise summary/caption of the table\"\n",
        "    )\n",
        "\n",
        "\n",
        "prompt_str = \"\"\"\\\n",
        "Give me a summary of the table with the following JSON format.\n",
        "\n",
        "- The table name must be unique to the table and describe it while being concise.\n",
        "- Do NOT output a generic table name (e.g. table, my_table).\n",
        "\n",
        "Do NOT make the table name one of the following: {exclude_table_name_list}\n",
        "\n",
        "Table:\n",
        "{table_str}\n",
        "\n",
        "Summary: \"\"\"\n",
        "\n",
        "program = LLMTextCompletionProgram.from_defaults(\n",
        "    output_cls=TableInfo,\n",
        "    llm = OpenAI(model=\"gpt-3.5-turbo\"),\n",
        "    prompt_template_str=prompt_str,\n",
        ")"
      ]
    },
    {
      "cell_type": "code",
      "execution_count": 5,
      "id": "f50a3c04-d1fb-4964-8f37-741fb98a5249",
      "metadata": {
        "id": "f50a3c04-d1fb-4964-8f37-741fb98a5249"
      },
      "outputs": [],
      "source": [
        "import json\n",
        "\n",
        "\n",
        "def _get_tableinfo_with_index(idx: int) -> str:\n",
        "    results_gen = Path(tableinfo_dir).glob(f\"{idx}_*\")\n",
        "    results_list = list(results_gen)\n",
        "    if len(results_list) == 0:\n",
        "        return None\n",
        "    elif len(results_list) == 1:\n",
        "        path = results_list[0]\n",
        "        return TableInfo.parse_file(path)\n",
        "    else:\n",
        "        raise ValueError(\n",
        "            f\"More than one file matching index: {list(results_gen)}\"\n",
        "        )\n",
        "\n",
        "\n",
        "table_names = set()\n",
        "table_infos = []\n",
        "for idx, df in enumerate(dfs):\n",
        "    table_info = _get_tableinfo_with_index(idx)\n",
        "    if table_info:\n",
        "        table_infos.append(table_info)\n",
        "    else:\n",
        "        while True:\n",
        "            df_str = df.head(10).to_csv()\n",
        "            table_info = program(\n",
        "                table_str=df_str,\n",
        "                exclude_table_name_list=str(list(table_names)),\n",
        "            )\n",
        "            table_name = table_info.table_name\n",
        "            print(f\"Processed table: {table_name}\")\n",
        "            if table_name not in table_names:\n",
        "                table_names.add(table_name)\n",
        "                break\n",
        "            else:\n",
        "                # try again\n",
        "                print(f\"Table name {table_name} already exists, trying again.\")\n",
        "                pass\n",
        "\n",
        "        out_file = f\"{tableinfo_dir}/{idx}_{table_name}.json\"\n",
        "        json.dump(table_info.dict(), open(out_file, \"w\"))\n",
        "    table_infos.append(table_info)"
      ]
    },
    {
      "cell_type": "markdown",
      "id": "a1cc3230-d14c-4491-b79f-45159708badb",
      "metadata": {
        "id": "a1cc3230-d14c-4491-b79f-45159708badb"
      },
      "source": [
        "### Put Data in SQL Database\n",
        "\n",
        "We use `sqlalchemy`, a popular SQL database toolkit, to load all the tables."
      ]
    },
    {
      "cell_type": "code",
      "execution_count": 6,
      "id": "53544059-de7d-48dd-8e00-89517964852b",
      "metadata": {
        "id": "53544059-de7d-48dd-8e00-89517964852b",
        "outputId": "df224651-1765-4aa7-e841-d58546c20e84"
      },
      "outputs": [
        {
          "name": "stdout",
          "output_type": "stream",
          "text": [
            "Creating table: categories\n",
            "Creating table: product_info\n"
          ]
        }
      ],
      "source": [
        "# put data into sqlite db\n",
        "from sqlalchemy import (\n",
        "    create_engine,\n",
        "    MetaData,\n",
        "    Table,\n",
        "    Column,\n",
        "    String,\n",
        "    Integer,\n",
        ")\n",
        "import re\n",
        "\n",
        "\n",
        "# Function to create a sanitized column name\n",
        "def sanitize_column_name(col_name):\n",
        "    # Remove special characters and replace spaces with underscores\n",
        "    return re.sub(r\"\\W+\", \"_\", col_name)\n",
        "\n",
        "\n",
        "# Function to create a table from a DataFrame using SQLAlchemy\n",
        "def create_table_from_dataframe(\n",
        "    df: pd.DataFrame, table_name: str, engine, metadata_obj\n",
        "):\n",
        "    # Sanitize column names\n",
        "    sanitized_columns = {col: sanitize_column_name(col) for col in df.columns}\n",
        "    df = df.rename(columns=sanitized_columns)\n",
        "\n",
        "    # Dynamically create columns based on DataFrame columns and data types\n",
        "    columns = [\n",
        "        Column(col, String if dtype == \"object\" else Integer)\n",
        "        for col, dtype in zip(df.columns, df.dtypes)\n",
        "    ]\n",
        "\n",
        "    # Create a table with the defined columns\n",
        "    table = Table(table_name, metadata_obj, *columns)\n",
        "\n",
        "    # Create the table in the database\n",
        "    metadata_obj.create_all(engine)\n",
        "\n",
        "    # Insert data from DataFrame into the table\n",
        "    with engine.connect() as conn:\n",
        "        for _, row in df.iterrows():\n",
        "            insert_stmt = table.insert().values(**row.to_dict())\n",
        "            conn.execute(insert_stmt)\n",
        "        conn.commit()\n",
        "\n",
        "\n",
        "engine = create_engine(\"sqlite:///:memory:\")\n",
        "metadata_obj = MetaData()\n",
        "for idx, df in enumerate(dfs):\n",
        "    tableinfo = _get_tableinfo_with_index(idx)\n",
        "    print(f\"Creating table: {tableinfo.table_name}\")\n",
        "    create_table_from_dataframe(df, tableinfo.table_name, engine, metadata_obj)"
      ]
    },
    {
      "cell_type": "code",
      "execution_count": 7,
      "id": "f12a34b5-1d91-4e85-a6ce-97adb5ddfa06",
      "metadata": {
        "id": "f12a34b5-1d91-4e85-a6ce-97adb5ddfa06",
        "outputId": "4527a7d1-6b5f-4f89-9a63-e5263f4e4441"
      },
      "outputs": [
        {
          "name": "stderr",
          "output_type": "stream",
          "text": [
            "/home/theebatican/anaconda3/envs/itanong/lib/python3.11/site-packages/tqdm/auto.py:21: TqdmWarning: IProgress not found. Please update jupyter and ipywidgets. See https://ipywidgets.readthedocs.io/en/stable/user_install.html\n",
            "  from .autonotebook import tqdm as notebook_tqdm\n",
            "E0608 22:35:16.581313339   22313 chttp2_server.cc:1097]                UNKNOWN:No address added out of total 1 resolved for '[::]:4317' {created_time:\"2024-06-08T22:35:16.581242035+08:00\", children:[UNKNOWN:Failed to add any wildcard listeners {created_time:\"2024-06-08T22:35:16.581235293+08:00\", children:[UNKNOWN:Unable to configure socket {fd:89, created_time:\"2024-06-08T22:35:16.581194115+08:00\", children:[UNKNOWN:Address already in use {created_time:\"2024-06-08T22:35:16.581174779+08:00\", errno:98, os_error:\"Address already in use\", syscall:\"bind\"}]}, UNKNOWN:Unable to configure socket {created_time:\"2024-06-08T22:35:16.581232848+08:00\", fd:89, children:[UNKNOWN:Address already in use {created_time:\"2024-06-08T22:35:16.581228801+08:00\", errno:98, os_error:\"Address already in use\", syscall:\"bind\"}]}]}]}\n",
            "ERROR:    Traceback (most recent call last):\n",
            "  File \"/home/theebatican/anaconda3/envs/itanong/lib/python3.11/site-packages/starlette/routing.py\", line 732, in lifespan\n",
            "    async with self.lifespan_context(app) as maybe_state:\n",
            "  File \"/home/theebatican/anaconda3/envs/itanong/lib/python3.11/contextlib.py\", line 210, in __aenter__\n",
            "    return await anext(self.gen)\n",
            "           ^^^^^^^^^^^^^^^^^^^^^\n",
            "  File \"/home/theebatican/anaconda3/envs/itanong/lib/python3.11/site-packages/phoenix/server/app.py\", line 275, in lifespan\n",
            "    async with bulk_inserter as (queue_span, queue_evaluation), GrpcServer(\n",
            "  File \"/home/theebatican/anaconda3/envs/itanong/lib/python3.11/site-packages/phoenix/server/grpc_server.py\", line 80, in __aenter__\n",
            "    server.add_insecure_port(f\"[::]:{get_env_grpc_port()}\")\n",
            "  File \"/home/theebatican/anaconda3/envs/itanong/lib/python3.11/site-packages/grpc/aio/_server.py\", line 102, in add_insecure_port\n",
            "    return _common.validate_port_binding_result(\n",
            "           ^^^^^^^^^^^^^^^^^^^^^^^^^^^^^^^^^^^^^\n",
            "  File \"/home/theebatican/anaconda3/envs/itanong/lib/python3.11/site-packages/grpc/_common.py\", line 181, in validate_port_binding_result\n",
            "    raise RuntimeError(_ERROR_MESSAGE_PORT_BINDING_FAILED % address)\n",
            "RuntimeError: Failed to bind to address [::]:4317; set GRPC_VERBOSITY=debug environment variable to see detailed error message.\n",
            "\n",
            "ERROR:    Application startup failed. Exiting.\n",
            "ERROR [phoenix.session.session] 💥 Phoenix failed to start. Please try again (making sure that port 6006 is not occupied by another process) or file an issue with us at https://github.com/Arize-ai/phoenix\n"
          ]
        }
      ],
      "source": [
        "import phoenix as px\n",
        "import llama_index\n",
        "\n",
        "px.launch_app()\n",
        "llama_index.core.set_global_handler(\"arize_phoenix\")"
      ]
    },
    {
      "cell_type": "markdown",
      "id": "1b5906e7-4e20-4b0a-bc42-615f6b86beb7",
      "metadata": {
        "id": "1b5906e7-4e20-4b0a-bc42-615f6b86beb7"
      },
      "source": [
        "## Advanced Capability 1: Text-to-SQL with Query-Time Table Retrieval.\n",
        "\n",
        "We now show you how to setup an e2e text-to-SQL with table retrieval.\n",
        "\n",
        "### Define Modules\n",
        "\n",
        "Here we define the core modules.\n",
        "1. Object index + retriever to store table schemas\n",
        "2. SQLDatabase object to connect to the above tables + SQLRetriever.\n",
        "3. Text-to-SQL Prompt\n",
        "4. Response synthesis Prompt\n",
        "5. LLM"
      ]
    },
    {
      "cell_type": "markdown",
      "id": "0830ecca-9688-45b7-b011-d6d44d6fc551",
      "metadata": {
        "id": "0830ecca-9688-45b7-b011-d6d44d6fc551"
      },
      "source": [
        "Object index, retriever, SQLDatabase"
      ]
    },
    {
      "cell_type": "code",
      "execution_count": 8,
      "id": "8a89bc36-a5ac-46bf-b9ae-801f34992019",
      "metadata": {
        "id": "8a89bc36-a5ac-46bf-b9ae-801f34992019"
      },
      "outputs": [],
      "source": [
        "from llama_index.core.indices.struct_store.sql_query import (\n",
        "    SQLTableRetrieverQueryEngine,\n",
        ")\n",
        "from llama_index.core.objects import (\n",
        "    SQLTableNodeMapping,\n",
        "    ObjectIndex,\n",
        "    SQLTableSchema,\n",
        ")\n",
        "from llama_index.core import VectorStoreIndex\n",
        "\n",
        "sql_database = SQLDatabase(engine)\n",
        "\n",
        "table_node_mapping = SQLTableNodeMapping(sql_database)\n",
        "table_schema_objs = [\n",
        "    SQLTableSchema(table_name=t.table_name, context_str=t.table_summary)\n",
        "    for t in table_infos\n",
        "]  # add a SQLTableSchema for each table\n",
        "\n",
        "obj_index = ObjectIndex.from_objects(\n",
        "    table_schema_objs,\n",
        "    table_node_mapping,\n",
        "    VectorStoreIndex,\n",
        ")\n",
        "obj_retriever = obj_index.as_retriever(similarity_top_k=3)"
      ]
    },
    {
      "cell_type": "markdown",
      "id": "4620fbe4-eac6-4476-b373-0e48dfbd81e0",
      "metadata": {
        "id": "4620fbe4-eac6-4476-b373-0e48dfbd81e0"
      },
      "source": [
        "SQLRetriever + Table Parser"
      ]
    },
    {
      "cell_type": "code",
      "execution_count": 10,
      "id": "3e9d68bb-16a5-409c-a406-1432565dde99",
      "metadata": {
        "id": "3e9d68bb-16a5-409c-a406-1432565dde99"
      },
      "outputs": [],
      "source": [
        "from llama_index.core.retrievers import NLSQLRetriever\n",
        "from typing import List\n",
        "from llama_index.core.query_pipeline import FnComponent\n",
        "\n",
        "sql_retriever = NLSQLRetriever(sql_database)\n",
        "\n",
        "def get_table_context_str(table_schema_objs: List[SQLTableSchema]):\n",
        "    \"\"\"Get table context string.\"\"\"\n",
        "    context_strs = []\n",
        "    for table_schema_obj in table_schema_objs:\n",
        "        table_info = sql_database.get_single_table_info(\n",
        "            table_schema_obj.table_name\n",
        "        )\n",
        "        if table_schema_obj.context_str:\n",
        "            table_opt_context = \" The table description is: \"\n",
        "            table_opt_context += table_schema_obj.context_str\n",
        "            table_info += table_opt_context\n",
        "\n",
        "        context_strs.append(table_info)\n",
        "    return \"\\n\\n\".join(context_strs)\n",
        "\n",
        "\n",
        "table_parser_component = FnComponent(fn=get_table_context_str)"
      ]
    },
    {
      "cell_type": "markdown",
      "id": "830ff35b-72ba-42bc-ab49-14b2efc93d17",
      "metadata": {
        "id": "830ff35b-72ba-42bc-ab49-14b2efc93d17"
      },
      "source": [
        "Text-to-SQL Prompt + Output Parser"
      ]
    },
    {
      "cell_type": "code",
      "execution_count": 11,
      "id": "246b8a28-a5b8-4103-b731-a6c09f8694ed",
      "metadata": {
        "id": "246b8a28-a5b8-4103-b731-a6c09f8694ed",
        "outputId": "479f47f2-f530-4984-d0fe-ded7a02a306e"
      },
      "outputs": [
        {
          "name": "stdout",
          "output_type": "stream",
          "text": [
            "Given an input question, first create a syntactically correct {dialect} query to run, then look at the results of the query and return the answer. You can order the results by a relevant column to return the most interesting examples in the database.\n",
            "\n",
            "Never query for all the columns from a specific table, only ask for a few relevant columns given the question.\n",
            "\n",
            "Pay attention to use only the column names that you can see in the schema description. Be careful to not query for columns that do not exist. Pay attention to which column is in which table. Also, qualify column names with the table name when needed. You are required to use the following format, each taking one line:\n",
            "\n",
            "Question: Question here\n",
            "SQLQuery: SQL Query to run\n",
            "SQLResult: Result of the SQLQuery\n",
            "Answer: Final answer here\n",
            "\n",
            "Only use tables listed below.\n",
            "{schema}\n",
            "\n",
            "Question: {query_str}\n",
            "SQLQuery: \n"
          ]
        }
      ],
      "source": [
        "from llama_index.core.prompts.default_prompts import DEFAULT_TEXT_TO_SQL_PROMPT\n",
        "from llama_index.core import PromptTemplate\n",
        "from llama_index.core.query_pipeline import FnComponent\n",
        "from llama_index.core.llms import ChatResponse\n",
        "\n",
        "\n",
        "def parse_response_to_sql(response: ChatResponse) -> str:\n",
        "    \"\"\"Parse response to SQL.\"\"\"\n",
        "    response = response.message.content\n",
        "    sql_query_start = response.find(\"SQLQuery:\")\n",
        "    if sql_query_start != -1:\n",
        "        response = response[sql_query_start:]\n",
        "        # TODO: move to removeprefix after Python 3.9+\n",
        "        if response.startswith(\"SQLQuery:\"):\n",
        "            response = response[len(\"SQLQuery:\") :]\n",
        "    sql_result_start = response.find(\"SQLResult:\")\n",
        "    if sql_result_start != -1:\n",
        "        response = response[:sql_result_start]\n",
        "    return response.strip().strip(\"```\").strip()\n",
        "\n",
        "\n",
        "sql_parser_component = FnComponent(fn=parse_response_to_sql)\n",
        "\n",
        "text2sql_prompt = DEFAULT_TEXT_TO_SQL_PROMPT.partial_format(\n",
        "    dialect=engine.dialect.name\n",
        ")\n",
        "print(text2sql_prompt.template)"
      ]
    },
    {
      "cell_type": "markdown",
      "id": "0cf6a211-dd6b-4ffc-b781-0b0c38896e25",
      "metadata": {
        "id": "0cf6a211-dd6b-4ffc-b781-0b0c38896e25"
      },
      "source": [
        "Response Synthesis Prompt"
      ]
    },
    {
      "cell_type": "code",
      "execution_count": 12,
      "id": "a2fe48e8-ffdd-48f8-b59a-d13d973e8a19",
      "metadata": {
        "id": "a2fe48e8-ffdd-48f8-b59a-d13d973e8a19"
      },
      "outputs": [],
      "source": [
        "response_synthesis_prompt_str = (\n",
        "    \"Given an input question, synthesize a response from the query results.\\n\"\n",
        "    \"Query: {query_str}\\n\"\n",
        "    \"SQL: {sql_query}\\n\"\n",
        "    \"SQL Response: {context_str}\\n\"\n",
        "    \"Response: \"\n",
        ")\n",
        "response_synthesis_prompt = PromptTemplate(\n",
        "    response_synthesis_prompt_str,\n",
        ")"
      ]
    },
    {
      "cell_type": "code",
      "execution_count": 13,
      "id": "dc0d0a62-beeb-4146-99ee-fbe3875481db",
      "metadata": {
        "id": "dc0d0a62-beeb-4146-99ee-fbe3875481db"
      },
      "outputs": [],
      "source": [
        "llm = OpenAI(model=\"gpt-3.5-turbo\")"
      ]
    },
    {
      "cell_type": "markdown",
      "id": "d4ad7cc4-763b-4060-8cc3-ac198c6b956c",
      "metadata": {
        "id": "d4ad7cc4-763b-4060-8cc3-ac198c6b956c"
      },
      "source": [
        "### Define Query Pipeline\n",
        "\n",
        "Now that the components are in place, let's define the query pipeline!"
      ]
    },
    {
      "cell_type": "code",
      "execution_count": 14,
      "id": "9d46d945-0efe-4e7f-b2a8-3ea56896f0be",
      "metadata": {
        "id": "9d46d945-0efe-4e7f-b2a8-3ea56896f0be"
      },
      "outputs": [],
      "source": [
        "from llama_index.core.query_pipeline import QueryPipeline as QP, Link, InputComponent, CustomQueryComponent\n",
        "from llama_index.core.llms import ChatResponse\n",
        "from llama_index.core.prompts.default_prompts import DEFAULT_TEXT_TO_SQL_PROMPT\n",
        "from llama_index.core import PromptTemplate, ServiceContext\n"
      ]
    },
    {
      "cell_type": "markdown",
      "id": "a0fb1122-a15f-4b13-b8e0-6dd23e4fb893",
      "metadata": {
        "id": "a0fb1122-a15f-4b13-b8e0-6dd23e4fb893"
      },
      "source": [
        "## 2. Advanced Capability 2: Text-to-SQL with Query-Time Row Retrieval (along with Table Retrieval)\n",
        "\n",
        "One problem in the previous example is that if the user asks a query that asks for \"The Notorious BIG\" but the artist is stored as \"The Notorious B.I.G\", then the generated SELECT statement will likely not return any matches.\n",
        "\n",
        "We can alleviate this problem by fetching a small number of example rows per table. A naive option would be to just take the first k rows. Instead, we embed, index, and retrieve k relevant rows given the user query to give the text-to-SQL LLM the most contextually relevant information for SQL generation.\n",
        "\n",
        "We now extend our query pipeline."
      ]
    },
    {
      "cell_type": "code",
      "execution_count": 17,
      "id": "5984f5db-7bfe-41ff-9cfe-2cde0e0a5d94",
      "metadata": {
        "id": "5984f5db-7bfe-41ff-9cfe-2cde0e0a5d94"
      },
      "outputs": [
        {
          "name": "stderr",
          "output_type": "stream",
          "text": [
            "/tmp/ipykernel_22218/1041081325.py:3: DeprecationWarning: Call to deprecated class method from_defaults. (ServiceContext is deprecated, please use `llama_index.settings.Settings` instead.) -- Deprecated since version 0.10.0.\n",
            "  service_context = ServiceContext.from_defaults(callback_manager=qp.callback_manager)\n"
          ]
        }
      ],
      "source": [
        "qp = QP(verbose=True)\n",
        "# NOTE: service context will be deprecated in v0.10 (though will still be backwards compatible)\n",
        "service_context = ServiceContext.from_defaults(callback_manager=qp.callback_manager)"
      ]
    },
    {
      "cell_type": "markdown",
      "id": "edee5340-b4f9-4594-b62d-376d1ef8cf75",
      "metadata": {
        "id": "edee5340-b4f9-4594-b62d-376d1ef8cf75"
      },
      "source": [
        "### Index Each Table\n",
        "\n",
        "We embed/index the rows of each table, resulting in one index per table."
      ]
    },
    {
      "cell_type": "code",
      "execution_count": 19,
      "id": "a5c0fcb2-b079-48f2-8c54-bf5c66940173",
      "metadata": {
        "id": "a5c0fcb2-b079-48f2-8c54-bf5c66940173",
        "outputId": "e8eefac0-5d06-46c5-89af-0de57363db2e"
      },
      "outputs": [
        {
          "name": "stdout",
          "output_type": "stream",
          "text": [
            "Indexing rows in table: categories\n",
            "Indexing rows in table: product_info\n"
          ]
        }
      ],
      "source": [
        "from llama_index.core import VectorStoreIndex, load_index_from_storage\n",
        "from sqlalchemy import text\n",
        "from llama_index.core.schema import TextNode\n",
        "from llama_index.core import StorageContext\n",
        "import os\n",
        "from pathlib import Path\n",
        "from typing import Dict\n",
        "\n",
        "\n",
        "\n",
        "def index_all_tables(\n",
        "    sql_database: SQLDatabase, table_index_dir: str = \"table_index_dir\"\n",
        ") -> Dict[str, VectorStoreIndex]:\n",
        "    \"\"\"Index all tables.\"\"\"\n",
        "    if not Path(table_index_dir).exists():\n",
        "        os.makedirs(table_index_dir)\n",
        "\n",
        "    vector_index_dict = {}\n",
        "    engine = sql_database.engine\n",
        "    for table_name in sql_database.get_usable_table_names():\n",
        "        print(f\"Indexing rows in table: {table_name}\")\n",
        "        if not os.path.exists(f\"{table_index_dir}/{table_name}\"):\n",
        "            # get all rows from table\n",
        "            with engine.connect() as conn:\n",
        "                cursor = conn.execute(text(f'SELECT * FROM \"{table_name}\"'))\n",
        "                result = cursor.fetchall()\n",
        "                row_tups = []\n",
        "                for row in result:\n",
        "                    row_tups.append(tuple(row))\n",
        "\n",
        "            # index each row, put into vector store index\n",
        "            nodes = [TextNode(text=str(t)) for t in row_tups]\n",
        "\n",
        "            # put into vector store index (use OpenAIEmbeddings by default)\n",
        "            index = VectorStoreIndex(nodes, service_context=service_context)\n",
        "\n",
        "            # save index\n",
        "            index.set_index_id(\"vector_index\")\n",
        "            index.storage_context.persist(f\"{table_index_dir}/{table_name}\")\n",
        "        else:\n",
        "            # rebuild storage context\n",
        "            storage_context = StorageContext.from_defaults(\n",
        "                persist_dir=f\"{table_index_dir}/{table_name}\"\n",
        "            )\n",
        "            # load index\n",
        "            index = load_index_from_storage(\n",
        "                storage_context, index_id=\"vector_index\", service_context=service_context\n",
        "            )\n",
        "        vector_index_dict[table_name] = index\n",
        "\n",
        "    return vector_index_dict\n",
        "\n",
        "\n",
        "vector_index_dict = index_all_tables(sql_database)"
      ]
    },
    {
      "cell_type": "markdown",
      "id": "5f598a0a-1a3d-42a7-8640-fc1309d8b387",
      "metadata": {
        "id": "5f598a0a-1a3d-42a7-8640-fc1309d8b387"
      },
      "source": [
        "### Define Expanded Table Parser Component\n",
        "\n",
        "We expand the capability of our `table_parser_component` to not only return the relevant table schemas, but also return relevant rows per table schema.\n",
        "\n",
        "It now takes in both `table_schema_objs` (output of table retriever), but also the original `query_str` which will then be used for vector retrieval of relevant rows."
      ]
    },
    {
      "cell_type": "code",
      "execution_count": 20,
      "id": "22340e9c-382c-4b7d-9266-d53a72af3023",
      "metadata": {
        "id": "22340e9c-382c-4b7d-9266-d53a72af3023"
      },
      "outputs": [],
      "source": [
        "from llama_index.core.retrievers import SQLRetriever\n",
        "from typing import List\n",
        "from llama_index.core.query_pipeline import FnComponent\n",
        "sql_retriever = SQLRetriever(sql_database)\n",
        "\n",
        "\n",
        "def get_table_context_and_rows_str(\n",
        "    query_str: str, table_schema_objs: List[SQLTableSchema]\n",
        "):\n",
        "    \"\"\"Get table context string.\"\"\"\n",
        "    context_strs = []\n",
        "    for table_schema_obj in table_schema_objs:\n",
        "        # first append table info + additional context\n",
        "        table_info = sql_database.get_single_table_info(\n",
        "            table_schema_obj.table_name\n",
        "        )\n",
        "        if table_schema_obj.context_str:\n",
        "            table_opt_context = \" The table description is: \"\n",
        "            table_opt_context += table_schema_obj.context_str\n",
        "            table_info += table_opt_context\n",
        "\n",
        "        # also lookup vector index to return relevant table rows\n",
        "        vector_retriever = vector_index_dict[\n",
        "            table_schema_obj.table_name\n",
        "        ].as_retriever(similarity_top_k=2)\n",
        "        relevant_nodes = vector_retriever.retrieve(query_str)\n",
        "        if len(relevant_nodes) > 0:\n",
        "            table_row_context = \"\\nHere are some relevant example rows (values in the same order as columns above)\\n\"\n",
        "            for node in relevant_nodes:\n",
        "                table_row_context += str(node.get_content()) + \"\\n\"\n",
        "            table_info += table_row_context\n",
        "\n",
        "        context_strs.append(table_info)\n",
        "    return \"\\n\\n\".join(context_strs)\n",
        "\n",
        "\n",
        "table_parser_component = FnComponent(fn=get_table_context_and_rows_str)"
      ]
    },
    {
      "cell_type": "markdown",
      "id": "ff926459-8161-4405-a2e8-3b074e925748",
      "metadata": {
        "id": "ff926459-8161-4405-a2e8-3b074e925748"
      },
      "source": [
        "### Define Expanded Query Pipeline\n",
        "\n",
        "This looks similar to the query pipeline in section 1, but with an upgraded table_parser_component."
      ]
    },
    {
      "cell_type": "code",
      "execution_count": 21,
      "id": "54d654a0-47bf-47c4-b101-97c55463f5fd",
      "metadata": {
        "id": "54d654a0-47bf-47c4-b101-97c55463f5fd"
      },
      "outputs": [],
      "source": [
        "\n",
        "\n",
        "qp.add_modules({\n",
        "    \"input\": InputComponent(),\n",
        "    \"table_retriever\": obj_retriever,\n",
        "    \"table_output_parser\": table_parser_component,\n",
        "    \"text2sql_prompt\": text2sql_prompt,\n",
        "    \"text2sql_llm\": llm,\n",
        "    \"sql_output_parser\": sql_parser_component,\n",
        "    \"sql_retriever\": sql_retriever,\n",
        "    \"response_synthesis_prompt\": response_synthesis_prompt,\n",
        "    \"response_synthesis_llm\": llm,\n",
        "})"
      ]
    },
    {
      "cell_type": "code",
      "execution_count": 22,
      "id": "b0b921b6-b8da-4901-b1a7-a21df6f1ccb1",
      "metadata": {
        "id": "b0b921b6-b8da-4901-b1a7-a21df6f1ccb1"
      },
      "outputs": [],
      "source": [
        "qp.add_link(\"input\", \"table_retriever\")\n",
        "qp.add_link(\"input\", \"table_output_parser\", dest_key=\"query_str\")\n",
        "qp.add_link(\n",
        "    \"table_retriever\", \"table_output_parser\", dest_key=\"table_schema_objs\"\n",
        ")\n",
        "qp.add_link(\"input\", \"text2sql_prompt\", dest_key=\"query_str\")\n",
        "qp.add_link(\"table_output_parser\", \"text2sql_prompt\", dest_key=\"schema\")\n",
        "qp.add_chain(\n",
        "    [\"text2sql_prompt\", \"text2sql_llm\", \"sql_output_parser\", \"sql_retriever\"]\n",
        ")\n",
        "qp.add_link(\n",
        "    \"sql_output_parser\", \"response_synthesis_prompt\", dest_key=\"sql_query\"\n",
        ")\n",
        "qp.add_link(\n",
        "    \"sql_retriever\", \"response_synthesis_prompt\", dest_key=\"context_str\"\n",
        ")\n",
        "qp.add_link(\"input\", \"response_synthesis_prompt\", dest_key=\"query_str\")\n",
        "qp.add_link(\"response_synthesis_prompt\", \"response_synthesis_llm\")"
      ]
    },
    {
      "cell_type": "code",
      "execution_count": null,
      "id": "8a2f78d4-d2cf-460f-a218-c47b7a98a67e",
      "metadata": {
        "id": "8a2f78d4-d2cf-460f-a218-c47b7a98a67e",
        "outputId": "6759b690-54e5-4b83-eaed-0ae429669c48"
      },
      "outputs": [],
      "source": [
        "from pyvis.network import Network\n",
        "\n",
        "net = Network(notebook=True, cdn_resources=\"in_line\", directed=True)\n",
        "net.from_nx(qp.dag)\n",
        "net.show(\"text2sql_dag.html\")"
      ]
    },
    {
      "cell_type": "markdown",
      "id": "16400cfc-7a21-45fc-932d-b917ab97babe",
      "metadata": {
        "id": "16400cfc-7a21-45fc-932d-b917ab97babe"
      },
      "source": [
        "### Run Some Queries\n",
        "\n",
        "We can now ask about relevant entries even if it doesn't exactly match the entry in the database."
      ]
    },
    {
      "cell_type": "code",
      "execution_count": null,
      "id": "c54c61a4-87f2-401d-8a3f-955105303883",
      "metadata": {
        "id": "c54c61a4-87f2-401d-8a3f-955105303883",
        "outputId": "8d73da17-42ba-4f53-cc06-89e7118a18e4"
      },
      "outputs": [],
      "source": [
        "\n",
        "print(str(response))"
      ]
    },
    {
      "cell_type": "code",
      "execution_count": 25,
      "id": "4821ef4a-aeff-4082-ae2c-accef0068c40",
      "metadata": {
        "id": "4821ef4a-aeff-4082-ae2c-accef0068c40"
      },
      "outputs": [
        {
          "name": "stdout",
          "output_type": "stream",
          "text": [
            "Serving at port 8001\n"
          ]
        },
        {
          "name": "stderr",
          "output_type": "stream",
          "text": [
            "127.0.0.1 - - [08/Jun/2024 22:41:53] \"GET / HTTP/1.1\" 200 -\n"
          ]
        },
        {
          "name": "stdout",
          "output_type": "stream",
          "text": [
            "\n",
            "\n",
            "what is the average tariff rate for coconuts?\n",
            "\u001b[1;3;38;2;155;135;227m> Running module input with input: \n",
            "query: what is the average tariff rate for coconuts?\n",
            "\n",
            "\u001b[0m\u001b[1;3;38;2;155;135;227m> Running module table_retriever with input: \n",
            "input: what is the average tariff rate for coconuts?\n",
            "\n",
            "\u001b[0m\u001b[1;3;38;2;155;135;227m> Running module table_output_parser with input: \n",
            "query_str: what is the average tariff rate for coconuts?\n",
            "table_schema_objs: [SQLTableSchema(table_name='categories', context_str='Categories of fresh or dried fruits including coconuts, nuts, bananas, dates, citrus fruit, grapes, melons, apples, pears, quinces, apricots, cher...\n",
            "\n",
            "\u001b[0m\u001b[1;3;38;2;155;135;227m> Running module text2sql_prompt with input: \n",
            "query_str: what is the average tariff rate for coconuts?\n",
            "schema: Table 'categories' has columns: category_id (INTEGER), category_description (VARCHAR), and foreign keys: . The table description is: Categories of fresh or dried fruits including coconuts, nuts, banan...\n",
            "\n",
            "\u001b[0m\u001b[1;3;38;2;155;135;227m> Running module text2sql_llm with input: \n",
            "messages: Given an input question, first create a syntactically correct sqlite query to run, then look at the results of the query and return the answer. You can order the results by a relevant column to return...\n",
            "\n",
            "\u001b[0m\u001b[1;3;38;2;155;135;227m> Running module sql_output_parser with input: \n",
            "response: assistant: SELECT AVG(rate_MFN) AS avg_tariff_rate\n",
            "FROM product_info\n",
            "WHERE product_description LIKE '%Coconuts%'\n",
            "SQLResult: \n",
            "avg_tariff_rate\n",
            "12.5\n",
            "Answer: The average tariff rate for coconuts is 12.5.\n",
            "\n",
            "\u001b[0m\u001b[1;3;38;2;155;135;227m> Running module sql_retriever with input: \n",
            "input: SELECT AVG(rate_MFN) AS avg_tariff_rate\n",
            "FROM product_info\n",
            "WHERE product_description LIKE '%Coconuts%'\n",
            "\n",
            "\u001b[0m\u001b[1;3;38;2;155;135;227m> Running module response_synthesis_prompt with input: \n",
            "query_str: what is the average tariff rate for coconuts?\n",
            "sql_query: SELECT AVG(rate_MFN) AS avg_tariff_rate\n",
            "FROM product_info\n",
            "WHERE product_description LIKE '%Coconuts%'\n",
            "context_str: [NodeWithScore(node=TextNode(id_='60a643ee-8984-43bc-ae85-288d1705f130', embedding=None, metadata={}, excluded_embed_metadata_keys=[], excluded_llm_metadata_keys=[], relationships={}, text='[(11.25,)]...\n",
            "\n",
            "\u001b[0m\u001b[1;3;38;2;155;135;227m> Running module response_synthesis_llm with input: \n",
            "messages: Given an input question, synthesize a response from the query results.\n",
            "Query: what is the average tariff rate for coconuts?\n",
            "SQL: SELECT AVG(rate_MFN) AS avg_tariff_rate\n",
            "FROM product_info\n",
            "WHERE product...\n",
            "\n",
            "\u001b[0m"
          ]
        },
        {
          "name": "stderr",
          "output_type": "stream",
          "text": [
            "127.0.0.1 - - [08/Jun/2024 22:42:12] \"POST / HTTP/1.1\" 200 -\n"
          ]
        },
        {
          "name": "stdout",
          "output_type": "stream",
          "text": [
            "how many vegetables are in the system?\n",
            "\u001b[1;3;38;2;155;135;227m> Running module input with input: \n",
            "query: how many vegetables are in the system?\n",
            "\n",
            "\u001b[0m\u001b[1;3;38;2;155;135;227m> Running module table_retriever with input: \n",
            "input: how many vegetables are in the system?\n",
            "\n",
            "\u001b[0m\u001b[1;3;38;2;155;135;227m> Running module table_output_parser with input: \n",
            "query_str: how many vegetables are in the system?\n",
            "table_schema_objs: [SQLTableSchema(table_name='categories', context_str='Categories of fresh or dried fruits including coconuts, nuts, bananas, dates, citrus fruit, grapes, melons, apples, pears, quinces, apricots, cher...\n",
            "\n",
            "\u001b[0m\u001b[1;3;38;2;155;135;227m> Running module text2sql_prompt with input: \n",
            "query_str: how many vegetables are in the system?\n",
            "schema: Table 'categories' has columns: category_id (INTEGER), category_description (VARCHAR), and foreign keys: . The table description is: Categories of fresh or dried fruits including coconuts, nuts, banan...\n",
            "\n",
            "\u001b[0m\u001b[1;3;38;2;155;135;227m> Running module text2sql_llm with input: \n",
            "messages: Given an input question, first create a syntactically correct sqlite query to run, then look at the results of the query and return the answer. You can order the results by a relevant column to return...\n",
            "\n",
            "\u001b[0m\u001b[1;3;38;2;155;135;227m> Running module sql_output_parser with input: \n",
            "response: assistant: SELECT COUNT(*) \n",
            "FROM categories \n",
            "WHERE category_description LIKE '%vegetables%'\n",
            "SQLResult: 0\n",
            "Answer: 0\n",
            "\n",
            "\u001b[0m\u001b[1;3;38;2;155;135;227m> Running module sql_retriever with input: \n",
            "input: SELECT COUNT(*) \n",
            "FROM categories \n",
            "WHERE category_description LIKE '%vegetables%'\n",
            "\n",
            "\u001b[0m\u001b[1;3;38;2;155;135;227m> Running module response_synthesis_prompt with input: \n",
            "query_str: how many vegetables are in the system?\n",
            "sql_query: SELECT COUNT(*) \n",
            "FROM categories \n",
            "WHERE category_description LIKE '%vegetables%'\n",
            "context_str: [NodeWithScore(node=TextNode(id_='9d159df4-f54f-4dd2-b95c-651fef959c56', embedding=None, metadata={}, excluded_embed_metadata_keys=[], excluded_llm_metadata_keys=[], relationships={}, text='[(0,)]', s...\n",
            "\n",
            "\u001b[0m\u001b[1;3;38;2;155;135;227m> Running module response_synthesis_llm with input: \n",
            "messages: Given an input question, synthesize a response from the query results.\n",
            "Query: how many vegetables are in the system?\n",
            "SQL: SELECT COUNT(*) \n",
            "FROM categories \n",
            "WHERE category_description LIKE '%vegetables...\n",
            "\n",
            "\u001b[0m"
          ]
        },
        {
          "name": "stderr",
          "output_type": "stream",
          "text": [
            "127.0.0.1 - - [08/Jun/2024 22:42:34] \"POST / HTTP/1.1\" 200 -\n",
            "127.0.0.1 - - [08/Jun/2024 22:42:39] \"GET / HTTP/1.1\" 200 -\n"
          ]
        },
        {
          "name": "stdout",
          "output_type": "stream",
          "text": [
            "\n",
            "\n",
            "what are the kinds of coconuts available?\n",
            "\u001b[1;3;38;2;155;135;227m> Running module input with input: \n",
            "query: what are the kinds of coconuts available?\n",
            "\n",
            "\u001b[0m\u001b[1;3;38;2;155;135;227m> Running module table_retriever with input: \n",
            "input: what are the kinds of coconuts available?\n",
            "\n",
            "\u001b[0m\u001b[1;3;38;2;155;135;227m> Running module table_output_parser with input: \n",
            "query_str: what are the kinds of coconuts available?\n",
            "table_schema_objs: [SQLTableSchema(table_name='categories', context_str='Categories of fresh or dried fruits including coconuts, nuts, bananas, dates, citrus fruit, grapes, melons, apples, pears, quinces, apricots, cher...\n",
            "\n",
            "\u001b[0m\u001b[1;3;38;2;155;135;227m> Running module text2sql_prompt with input: \n",
            "query_str: what are the kinds of coconuts available?\n",
            "schema: Table 'categories' has columns: category_id (INTEGER), category_description (VARCHAR), and foreign keys: . The table description is: Categories of fresh or dried fruits including coconuts, nuts, banan...\n",
            "\n",
            "\u001b[0m\u001b[1;3;38;2;155;135;227m> Running module text2sql_llm with input: \n",
            "messages: Given an input question, first create a syntactically correct sqlite query to run, then look at the results of the query and return the answer. You can order the results by a relevant column to return...\n",
            "\n",
            "\u001b[0m\u001b[1;3;38;2;155;135;227m> Running module sql_output_parser with input: \n",
            "response: assistant: SELECT product_id, product_description\n",
            "FROM product_info\n",
            "WHERE product_description LIKE '%Coconuts%'\n",
            "SQLResult: \n",
            "product_id | product_description\n",
            "8011200 | Coconuts, Fresh\n",
            "8011100 | Coconut...\n",
            "\n",
            "\u001b[0m\u001b[1;3;38;2;155;135;227m> Running module sql_retriever with input: \n",
            "input: SELECT product_id, product_description\n",
            "FROM product_info\n",
            "WHERE product_description LIKE '%Coconuts%'\n",
            "\n",
            "\u001b[0m\u001b[1;3;38;2;155;135;227m> Running module response_synthesis_prompt with input: \n",
            "query_str: what are the kinds of coconuts available?\n",
            "sql_query: SELECT product_id, product_description\n",
            "FROM product_info\n",
            "WHERE product_description LIKE '%Coconuts%'\n",
            "context_str: [NodeWithScore(node=TextNode(id_='de45395a-7ce9-4f5c-98ca-f9f801b50553', embedding=None, metadata={}, excluded_embed_metadata_keys=[], excluded_llm_metadata_keys=[], relationships={}, text=\"[(8011100,...\n",
            "\n",
            "\u001b[0m\u001b[1;3;38;2;155;135;227m> Running module response_synthesis_llm with input: \n",
            "messages: Given an input question, synthesize a response from the query results.\n",
            "Query: what are the kinds of coconuts available?\n",
            "SQL: SELECT product_id, product_description\n",
            "FROM product_info\n",
            "WHERE product_desc...\n",
            "\n",
            "\u001b[0m"
          ]
        },
        {
          "name": "stderr",
          "output_type": "stream",
          "text": [
            "127.0.0.1 - - [08/Jun/2024 22:43:01] \"POST / HTTP/1.1\" 200 -\n"
          ]
        },
        {
          "name": "stdout",
          "output_type": "stream",
          "text": [
            "what is the average rate for apples?\n",
            "\u001b[1;3;38;2;155;135;227m> Running module input with input: \n",
            "query: what is the average rate for apples?\n",
            "\n",
            "\u001b[0m\u001b[1;3;38;2;155;135;227m> Running module table_retriever with input: \n",
            "input: what is the average rate for apples?\n",
            "\n",
            "\u001b[0m\u001b[1;3;38;2;155;135;227m> Running module table_output_parser with input: \n",
            "query_str: what is the average rate for apples?\n",
            "table_schema_objs: [SQLTableSchema(table_name='categories', context_str='Categories of fresh or dried fruits including coconuts, nuts, bananas, dates, citrus fruit, grapes, melons, apples, pears, quinces, apricots, cher...\n",
            "\n",
            "\u001b[0m\u001b[1;3;38;2;155;135;227m> Running module text2sql_prompt with input: \n",
            "query_str: what is the average rate for apples?\n",
            "schema: Table 'categories' has columns: category_id (INTEGER), category_description (VARCHAR), and foreign keys: . The table description is: Categories of fresh or dried fruits including coconuts, nuts, banan...\n",
            "\n",
            "\u001b[0m\u001b[1;3;38;2;155;135;227m> Running module text2sql_llm with input: \n",
            "messages: Given an input question, first create a syntactically correct sqlite query to run, then look at the results of the query and return the answer. You can order the results by a relevant column to return...\n",
            "\n",
            "\u001b[0m\u001b[1;3;38;2;155;135;227m> Running module sql_output_parser with input: \n",
            "response: assistant: SELECT AVG(rate_MFN) \n",
            "FROM product_info \n",
            "WHERE product_description = 'Apples'\n",
            "SQLResult: 7\n",
            "Answer: The average rate for apples is 7.\n",
            "\n",
            "\u001b[0m\u001b[1;3;38;2;155;135;227m> Running module sql_retriever with input: \n",
            "input: SELECT AVG(rate_MFN) \n",
            "FROM product_info \n",
            "WHERE product_description = 'Apples'\n",
            "\n",
            "\u001b[0m\u001b[1;3;38;2;155;135;227m> Running module response_synthesis_prompt with input: \n",
            "query_str: what is the average rate for apples?\n",
            "sql_query: SELECT AVG(rate_MFN) \n",
            "FROM product_info \n",
            "WHERE product_description = 'Apples'\n",
            "context_str: [NodeWithScore(node=TextNode(id_='53ea9813-f838-4646-ae02-1905e2c9b30c', embedding=None, metadata={}, excluded_embed_metadata_keys=[], excluded_llm_metadata_keys=[], relationships={}, text='[(7.0,)]',...\n",
            "\n",
            "\u001b[0m\u001b[1;3;38;2;155;135;227m> Running module response_synthesis_llm with input: \n",
            "messages: Given an input question, synthesize a response from the query results.\n",
            "Query: what is the average rate for apples?\n",
            "SQL: SELECT AVG(rate_MFN) \n",
            "FROM product_info \n",
            "WHERE product_description = 'Apples'\n",
            "SQ...\n",
            "\n",
            "\u001b[0m"
          ]
        },
        {
          "name": "stderr",
          "output_type": "stream",
          "text": [
            "127.0.0.1 - - [08/Jun/2024 22:43:19] \"POST / HTTP/1.1\" 200 -\n"
          ]
        },
        {
          "name": "stdout",
          "output_type": "stream",
          "text": [
            "what is the tariff rate for strawberries?\n",
            "\u001b[1;3;38;2;155;135;227m> Running module input with input: \n",
            "query: what is the tariff rate for strawberries?\n",
            "\n",
            "\u001b[0m\u001b[1;3;38;2;155;135;227m> Running module table_retriever with input: \n",
            "input: what is the tariff rate for strawberries?\n",
            "\n",
            "\u001b[0m\u001b[1;3;38;2;155;135;227m> Running module table_output_parser with input: \n",
            "query_str: what is the tariff rate for strawberries?\n",
            "table_schema_objs: [SQLTableSchema(table_name='categories', context_str='Categories of fresh or dried fruits including coconuts, nuts, bananas, dates, citrus fruit, grapes, melons, apples, pears, quinces, apricots, cher...\n",
            "\n",
            "\u001b[0m\u001b[1;3;38;2;155;135;227m> Running module text2sql_prompt with input: \n",
            "query_str: what is the tariff rate for strawberries?\n",
            "schema: Table 'categories' has columns: category_id (INTEGER), category_description (VARCHAR), and foreign keys: . The table description is: Categories of fresh or dried fruits including coconuts, nuts, banan...\n",
            "\n",
            "\u001b[0m\u001b[1;3;38;2;155;135;227m> Running module text2sql_llm with input: \n",
            "messages: Given an input question, first create a syntactically correct sqlite query to run, then look at the results of the query and return the answer. You can order the results by a relevant column to return...\n",
            "\n",
            "\u001b[0m\u001b[1;3;38;2;155;135;227m> Running module sql_output_parser with input: \n",
            "response: assistant: SELECT p.rate_MFN, p.rate_ATIGA\n",
            "FROM product_info p\n",
            "JOIN categories c ON p.category_id = c.category_id\n",
            "WHERE c.category_description LIKE '%strawberries%'\n",
            "SQLResult: \n",
            "rate_MFN | rate_ATIGA\n",
            "1...\n",
            "\n",
            "\u001b[0m\u001b[1;3;38;2;155;135;227m> Running module sql_retriever with input: \n",
            "input: SELECT p.rate_MFN, p.rate_ATIGA\n",
            "FROM product_info p\n",
            "JOIN categories c ON p.category_id = c.category_id\n",
            "WHERE c.category_description LIKE '%strawberries%'\n",
            "\n",
            "\u001b[0m\u001b[1;3;38;2;155;135;227m> Running module response_synthesis_prompt with input: \n",
            "query_str: what is the tariff rate for strawberries?\n",
            "sql_query: SELECT p.rate_MFN, p.rate_ATIGA\n",
            "FROM product_info p\n",
            "JOIN categories c ON p.category_id = c.category_id\n",
            "WHERE c.category_description LIKE '%strawberries%'\n",
            "context_str: [NodeWithScore(node=TextNode(id_='40838adf-5314-4a33-8f7e-d198dbf31f0d', embedding=None, metadata={}, excluded_embed_metadata_keys=[], excluded_llm_metadata_keys=[], relationships={}, text='[]', start...\n",
            "\n",
            "\u001b[0m\u001b[1;3;38;2;155;135;227m> Running module response_synthesis_llm with input: \n",
            "messages: Given an input question, synthesize a response from the query results.\n",
            "Query: what is the tariff rate for strawberries?\n",
            "SQL: SELECT p.rate_MFN, p.rate_ATIGA\n",
            "FROM product_info p\n",
            "JOIN categories c ON p....\n",
            "\n",
            "\u001b[0m"
          ]
        },
        {
          "name": "stderr",
          "output_type": "stream",
          "text": [
            "127.0.0.1 - - [08/Jun/2024 22:43:40] \"POST / HTTP/1.1\" 200 -\n"
          ]
        },
        {
          "name": "stdout",
          "output_type": "stream",
          "text": [
            "what is the rate for strawberries?\n",
            "\u001b[1;3;38;2;155;135;227m> Running module input with input: \n",
            "query: what is the rate for strawberries?\n",
            "\n",
            "\u001b[0m\u001b[1;3;38;2;155;135;227m> Running module table_retriever with input: \n",
            "input: what is the rate for strawberries?\n",
            "\n",
            "\u001b[0m\u001b[1;3;38;2;155;135;227m> Running module table_output_parser with input: \n",
            "query_str: what is the rate for strawberries?\n",
            "table_schema_objs: [SQLTableSchema(table_name='categories', context_str='Categories of fresh or dried fruits including coconuts, nuts, bananas, dates, citrus fruit, grapes, melons, apples, pears, quinces, apricots, cher...\n",
            "\n",
            "\u001b[0m\u001b[1;3;38;2;155;135;227m> Running module text2sql_prompt with input: \n",
            "query_str: what is the rate for strawberries?\n",
            "schema: Table 'categories' has columns: category_id (INTEGER), category_description (VARCHAR), and foreign keys: . The table description is: Categories of fresh or dried fruits including coconuts, nuts, banan...\n",
            "\n",
            "\u001b[0m\u001b[1;3;38;2;155;135;227m> Running module text2sql_llm with input: \n",
            "messages: Given an input question, first create a syntactically correct sqlite query to run, then look at the results of the query and return the answer. You can order the results by a relevant column to return...\n",
            "\n",
            "\u001b[0m\u001b[1;3;38;2;155;135;227m> Running module sql_output_parser with input: \n",
            "response: assistant: SELECT rate_MFN, rate_ATIGA\n",
            "FROM product_info\n",
            "WHERE product_description = 'Strawberries'\n",
            "SQLResult: \n",
            "rate_MFN | rate_ATIGA\n",
            "15       | 0\n",
            "\n",
            "Answer: The rate for strawberries is 15 for MFN and ...\n",
            "\n",
            "\u001b[0m\u001b[1;3;38;2;155;135;227m> Running module sql_retriever with input: \n",
            "input: SELECT rate_MFN, rate_ATIGA\n",
            "FROM product_info\n",
            "WHERE product_description = 'Strawberries'\n",
            "\n",
            "\u001b[0m\u001b[1;3;38;2;155;135;227m> Running module response_synthesis_prompt with input: \n",
            "query_str: what is the rate for strawberries?\n",
            "sql_query: SELECT rate_MFN, rate_ATIGA\n",
            "FROM product_info\n",
            "WHERE product_description = 'Strawberries'\n",
            "context_str: [NodeWithScore(node=TextNode(id_='bf2a1a18-fda5-4d55-ad7e-1a4dca3b23ba', embedding=None, metadata={}, excluded_embed_metadata_keys=[], excluded_llm_metadata_keys=[], relationships={}, text='[(15, 0)]'...\n",
            "\n",
            "\u001b[0m\u001b[1;3;38;2;155;135;227m> Running module response_synthesis_llm with input: \n",
            "messages: Given an input question, synthesize a response from the query results.\n",
            "Query: what is the rate for strawberries?\n",
            "SQL: SELECT rate_MFN, rate_ATIGA\n",
            "FROM product_info\n",
            "WHERE product_description = 'Strawbe...\n",
            "\n",
            "\u001b[0m"
          ]
        },
        {
          "name": "stderr",
          "output_type": "stream",
          "text": [
            "127.0.0.1 - - [08/Jun/2024 22:43:55] \"POST / HTTP/1.1\" 200 -\n",
            "127.0.0.1 - - [08/Jun/2024 22:43:57] \"GET / HTTP/1.1\" 200 -\n"
          ]
        },
        {
          "name": "stdout",
          "output_type": "stream",
          "text": [
            "\n",
            "\n",
            "what is the average tariff rate for apples?\n",
            "\u001b[1;3;38;2;155;135;227m> Running module input with input: \n",
            "query: what is the average tariff rate for apples?\n",
            "\n",
            "\u001b[0m\u001b[1;3;38;2;155;135;227m> Running module table_retriever with input: \n",
            "input: what is the average tariff rate for apples?\n",
            "\n",
            "\u001b[0m\u001b[1;3;38;2;155;135;227m> Running module table_output_parser with input: \n",
            "query_str: what is the average tariff rate for apples?\n",
            "table_schema_objs: [SQLTableSchema(table_name='product_info', context_str='Summary of product information including product ID, category ID, tariff rates, product description, and effective year.'), SQLTableSchema(table...\n",
            "\n",
            "\u001b[0m\u001b[1;3;38;2;155;135;227m> Running module text2sql_prompt with input: \n",
            "query_str: what is the average tariff rate for apples?\n",
            "schema: Table 'product_info' has columns: product_id (INTEGER), category_id (INTEGER), rate_MFN (INTEGER), rate_ATIGA (INTEGER), product_description (VARCHAR), effective_year (INTEGER), and foreign keys: . Th...\n",
            "\n",
            "\u001b[0m\u001b[1;3;38;2;155;135;227m> Running module text2sql_llm with input: \n",
            "messages: Given an input question, first create a syntactically correct sqlite query to run, then look at the results of the query and return the answer. You can order the results by a relevant column to return...\n",
            "\n",
            "\u001b[0m\u001b[1;3;38;2;155;135;227m> Running module sql_output_parser with input: \n",
            "response: assistant: SELECT AVG(rate_MFN) AS avg_tariff_rate\n",
            "FROM product_info\n",
            "WHERE product_description = 'Apples'\n",
            "SQLResult: \n",
            "avg_tariff_rate\n",
            "7\n",
            "Answer: The average tariff rate for apples is 7.\n",
            "\n",
            "\u001b[0m\u001b[1;3;38;2;155;135;227m> Running module sql_retriever with input: \n",
            "input: SELECT AVG(rate_MFN) AS avg_tariff_rate\n",
            "FROM product_info\n",
            "WHERE product_description = 'Apples'\n",
            "\n",
            "\u001b[0m\u001b[1;3;38;2;155;135;227m> Running module response_synthesis_prompt with input: \n",
            "query_str: what is the average tariff rate for apples?\n",
            "sql_query: SELECT AVG(rate_MFN) AS avg_tariff_rate\n",
            "FROM product_info\n",
            "WHERE product_description = 'Apples'\n",
            "context_str: [NodeWithScore(node=TextNode(id_='c7e9be3b-9670-4e5b-b906-e68f186bc05d', embedding=None, metadata={}, excluded_embed_metadata_keys=[], excluded_llm_metadata_keys=[], relationships={}, text='[(7.0,)]',...\n",
            "\n",
            "\u001b[0m\u001b[1;3;38;2;155;135;227m> Running module response_synthesis_llm with input: \n",
            "messages: Given an input question, synthesize a response from the query results.\n",
            "Query: what is the average tariff rate for apples?\n",
            "SQL: SELECT AVG(rate_MFN) AS avg_tariff_rate\n",
            "FROM product_info\n",
            "WHERE product_d...\n",
            "\n",
            "\u001b[0m"
          ]
        },
        {
          "name": "stderr",
          "output_type": "stream",
          "text": [
            "127.0.0.1 - - [08/Jun/2024 22:44:19] \"POST / HTTP/1.1\" 200 -\n"
          ]
        },
        {
          "name": "stdout",
          "output_type": "stream",
          "text": [
            "how many kinds of apples are in the database?\n",
            "\u001b[1;3;38;2;155;135;227m> Running module input with input: \n",
            "query: how many kinds of apples are in the database?\n",
            "\n",
            "\u001b[0m\u001b[1;3;38;2;155;135;227m> Running module table_retriever with input: \n",
            "input: how many kinds of apples are in the database?\n",
            "\n",
            "\u001b[0m\u001b[1;3;38;2;155;135;227m> Running module table_output_parser with input: \n",
            "query_str: how many kinds of apples are in the database?\n",
            "table_schema_objs: [SQLTableSchema(table_name='categories', context_str='Categories of fresh or dried fruits including coconuts, nuts, bananas, dates, citrus fruit, grapes, melons, apples, pears, quinces, apricots, cher...\n",
            "\n",
            "\u001b[0m\u001b[1;3;38;2;155;135;227m> Running module text2sql_prompt with input: \n",
            "query_str: how many kinds of apples are in the database?\n",
            "schema: Table 'categories' has columns: category_id (INTEGER), category_description (VARCHAR), and foreign keys: . The table description is: Categories of fresh or dried fruits including coconuts, nuts, banan...\n",
            "\n",
            "\u001b[0m\u001b[1;3;38;2;155;135;227m> Running module text2sql_llm with input: \n",
            "messages: Given an input question, first create a syntactically correct sqlite query to run, then look at the results of the query and return the answer. You can order the results by a relevant column to return...\n",
            "\n",
            "\u001b[0m\u001b[1;3;38;2;155;135;227m> Running module sql_output_parser with input: \n",
            "response: assistant: SELECT COUNT(*) \n",
            "FROM product_info \n",
            "WHERE product_description = 'Apples';\n",
            "SQLResult: 1\n",
            "Answer: There is 1 kind of apples in the database.\n",
            "\n",
            "\u001b[0m\u001b[1;3;38;2;155;135;227m> Running module sql_retriever with input: \n",
            "input: SELECT COUNT(*) \n",
            "FROM product_info \n",
            "WHERE product_description = 'Apples';\n",
            "\n",
            "\u001b[0m\u001b[1;3;38;2;155;135;227m> Running module response_synthesis_prompt with input: \n",
            "query_str: how many kinds of apples are in the database?\n",
            "sql_query: SELECT COUNT(*) \n",
            "FROM product_info \n",
            "WHERE product_description = 'Apples';\n",
            "context_str: [NodeWithScore(node=TextNode(id_='7a5fe3da-b287-4cc1-b4e2-20bdb2b26e61', embedding=None, metadata={}, excluded_embed_metadata_keys=[], excluded_llm_metadata_keys=[], relationships={}, text='[(1,)]', s...\n",
            "\n",
            "\u001b[0m\u001b[1;3;38;2;155;135;227m> Running module response_synthesis_llm with input: \n",
            "messages: Given an input question, synthesize a response from the query results.\n",
            "Query: how many kinds of apples are in the database?\n",
            "SQL: SELECT COUNT(*) \n",
            "FROM product_info \n",
            "WHERE product_description = 'Apples...\n",
            "\n",
            "\u001b[0m"
          ]
        },
        {
          "name": "stderr",
          "output_type": "stream",
          "text": [
            "127.0.0.1 - - [08/Jun/2024 22:44:45] \"POST / HTTP/1.1\" 200 -\n"
          ]
        },
        {
          "name": "stdout",
          "output_type": "stream",
          "text": [
            "how many kinds of coconuts are in the database?\n",
            "\u001b[1;3;38;2;155;135;227m> Running module input with input: \n",
            "query: how many kinds of coconuts are in the database?\n",
            "\n",
            "\u001b[0m\u001b[1;3;38;2;155;135;227m> Running module table_retriever with input: \n",
            "input: how many kinds of coconuts are in the database?\n",
            "\n",
            "\u001b[0m\u001b[1;3;38;2;155;135;227m> Running module table_output_parser with input: \n",
            "query_str: how many kinds of coconuts are in the database?\n",
            "table_schema_objs: [SQLTableSchema(table_name='categories', context_str='Categories of fresh or dried fruits including coconuts, nuts, bananas, dates, citrus fruit, grapes, melons, apples, pears, quinces, apricots, cher...\n",
            "\n",
            "\u001b[0m\u001b[1;3;38;2;155;135;227m> Running module text2sql_prompt with input: \n",
            "query_str: how many kinds of coconuts are in the database?\n",
            "schema: Table 'categories' has columns: category_id (INTEGER), category_description (VARCHAR), and foreign keys: . The table description is: Categories of fresh or dried fruits including coconuts, nuts, banan...\n",
            "\n",
            "\u001b[0m\u001b[1;3;38;2;155;135;227m> Running module text2sql_llm with input: \n",
            "messages: Given an input question, first create a syntactically correct sqlite query to run, then look at the results of the query and return the answer. You can order the results by a relevant column to return...\n",
            "\n",
            "\u001b[0m\u001b[1;3;38;2;155;135;227m> Running module sql_output_parser with input: \n",
            "response: assistant: SELECT COUNT(*) \n",
            "FROM product_info \n",
            "WHERE product_description LIKE '%Coconuts%'\n",
            "SQLResult: 2\n",
            "Answer: There are 2 kinds of coconuts in the database.\n",
            "\n",
            "\u001b[0m\u001b[1;3;38;2;155;135;227m> Running module sql_retriever with input: \n",
            "input: SELECT COUNT(*) \n",
            "FROM product_info \n",
            "WHERE product_description LIKE '%Coconuts%'\n",
            "\n",
            "\u001b[0m\u001b[1;3;38;2;155;135;227m> Running module response_synthesis_prompt with input: \n",
            "query_str: how many kinds of coconuts are in the database?\n",
            "sql_query: SELECT COUNT(*) \n",
            "FROM product_info \n",
            "WHERE product_description LIKE '%Coconuts%'\n",
            "context_str: [NodeWithScore(node=TextNode(id_='08c6be14-7717-411e-be34-43031da4425a', embedding=None, metadata={}, excluded_embed_metadata_keys=[], excluded_llm_metadata_keys=[], relationships={}, text='[(4,)]', s...\n",
            "\n",
            "\u001b[0m\u001b[1;3;38;2;155;135;227m> Running module response_synthesis_llm with input: \n",
            "messages: Given an input question, synthesize a response from the query results.\n",
            "Query: how many kinds of coconuts are in the database?\n",
            "SQL: SELECT COUNT(*) \n",
            "FROM product_info \n",
            "WHERE product_description LIKE '%...\n",
            "\n",
            "\u001b[0m"
          ]
        },
        {
          "name": "stderr",
          "output_type": "stream",
          "text": [
            "127.0.0.1 - - [08/Jun/2024 22:44:58] \"POST / HTTP/1.1\" 200 -\n"
          ]
        },
        {
          "name": "stdout",
          "output_type": "stream",
          "text": [
            "what categories are in the database?\n",
            "\u001b[1;3;38;2;155;135;227m> Running module input with input: \n",
            "query: what categories are in the database?\n",
            "\n",
            "\u001b[0m\u001b[1;3;38;2;155;135;227m> Running module table_retriever with input: \n",
            "input: what categories are in the database?\n",
            "\n",
            "\u001b[0m\u001b[1;3;38;2;155;135;227m> Running module table_output_parser with input: \n",
            "query_str: what categories are in the database?\n",
            "table_schema_objs: [SQLTableSchema(table_name='categories', context_str='Categories of fresh or dried fruits including coconuts, nuts, bananas, dates, citrus fruit, grapes, melons, apples, pears, quinces, apricots, cher...\n",
            "\n",
            "\u001b[0m\u001b[1;3;38;2;155;135;227m> Running module text2sql_prompt with input: \n",
            "query_str: what categories are in the database?\n",
            "schema: Table 'categories' has columns: category_id (INTEGER), category_description (VARCHAR), and foreign keys: . The table description is: Categories of fresh or dried fruits including coconuts, nuts, banan...\n",
            "\n",
            "\u001b[0m\u001b[1;3;38;2;155;135;227m> Running module text2sql_llm with input: \n",
            "messages: Given an input question, first create a syntactically correct sqlite query to run, then look at the results of the query and return the answer. You can order the results by a relevant column to return...\n",
            "\n",
            "\u001b[0m\u001b[1;3;38;2;155;135;227m> Running module sql_output_parser with input: \n",
            "response: assistant: SELECT category_description FROM categories\n",
            "SQLResult: \n",
            "category_description\n",
            "Apricots, cherries, peaches (including nectarines), plums and sloes, fresh.\n",
            "Dates, figs, pineapples, avocados, g...\n",
            "\n",
            "\u001b[0m\u001b[1;3;38;2;155;135;227m> Running module sql_retriever with input: \n",
            "input: SELECT category_description FROM categories\n",
            "\n",
            "\u001b[0m\u001b[1;3;38;2;155;135;227m> Running module response_synthesis_prompt with input: \n",
            "query_str: what categories are in the database?\n",
            "sql_query: SELECT category_description FROM categories\n",
            "context_str: [NodeWithScore(node=TextNode(id_='9e3f200e-39b7-4b73-a616-124c2376247c', embedding=None, metadata={}, excluded_embed_metadata_keys=[], excluded_llm_metadata_keys=[], relationships={}, text=\"[('Coconut...\n",
            "\n",
            "\u001b[0m\u001b[1;3;38;2;155;135;227m> Running module response_synthesis_llm with input: \n",
            "messages: Given an input question, synthesize a response from the query results.\n",
            "Query: what categories are in the database?\n",
            "SQL: SELECT category_description FROM categories\n",
            "SQL Response: [\"Node ID: 9e3f200e-39...\n",
            "\n",
            "\u001b[0m"
          ]
        },
        {
          "name": "stderr",
          "output_type": "stream",
          "text": [
            "127.0.0.1 - - [08/Jun/2024 22:45:40] \"POST / HTTP/1.1\" 200 -\n"
          ]
        },
        {
          "name": "stdout",
          "output_type": "stream",
          "text": [
            "what is the database about?\n",
            "\u001b[1;3;38;2;155;135;227m> Running module input with input: \n",
            "query: what is the database about?\n",
            "\n",
            "\u001b[0m\u001b[1;3;38;2;155;135;227m> Running module table_retriever with input: \n",
            "input: what is the database about?\n",
            "\n",
            "\u001b[0m\u001b[1;3;38;2;155;135;227m> Running module table_output_parser with input: \n",
            "query_str: what is the database about?\n",
            "table_schema_objs: [SQLTableSchema(table_name='categories', context_str='Categories of fresh or dried fruits including coconuts, nuts, bananas, dates, citrus fruit, grapes, melons, apples, pears, quinces, apricots, cher...\n",
            "\n",
            "\u001b[0m\u001b[1;3;38;2;155;135;227m> Running module text2sql_prompt with input: \n",
            "query_str: what is the database about?\n",
            "schema: Table 'categories' has columns: category_id (INTEGER), category_description (VARCHAR), and foreign keys: . The table description is: Categories of fresh or dried fruits including coconuts, nuts, banan...\n",
            "\n",
            "\u001b[0m\u001b[1;3;38;2;155;135;227m> Running module text2sql_llm with input: \n",
            "messages: Given an input question, first create a syntactically correct sqlite query to run, then look at the results of the query and return the answer. You can order the results by a relevant column to return...\n",
            "\n",
            "\u001b[0m\u001b[1;3;38;2;155;135;227m> Running module sql_output_parser with input: \n",
            "response: assistant: SELECT category_description, product_description\n",
            "FROM categories\n",
            "JOIN product_info ON categories.category_id = product_info.category_id\n",
            "ORDER BY category_id;\n",
            "SQLResult:\n",
            "category_description...\n",
            "\n",
            "\u001b[0m\u001b[1;3;38;2;155;135;227m> Running module sql_retriever with input: \n",
            "input: SELECT category_description, product_description\n",
            "FROM categories\n",
            "JOIN product_info ON categories.category_id = product_info.category_id\n",
            "ORDER BY category_id;\n",
            "\n",
            "\u001b[0m"
          ]
        },
        {
          "name": "stderr",
          "output_type": "stream",
          "text": [
            "----------------------------------------\n",
            "Exception occurred during processing of request from ('127.0.0.1', 44712)\n",
            "Traceback (most recent call last):\n",
            "  File \"/home/theebatican/anaconda3/envs/itanong/lib/python3.11/site-packages/sqlalchemy/engine/base.py\", line 1967, in _exec_single_context\n",
            "    self.dialect.do_execute(\n",
            "  File \"/home/theebatican/anaconda3/envs/itanong/lib/python3.11/site-packages/sqlalchemy/engine/default.py\", line 924, in do_execute\n",
            "    cursor.execute(statement, parameters)\n",
            "sqlite3.OperationalError: ambiguous column name: category_id\n",
            "\n",
            "The above exception was the direct cause of the following exception:\n",
            "\n",
            "Traceback (most recent call last):\n",
            "  File \"/home/theebatican/anaconda3/envs/itanong/lib/python3.11/site-packages/llama_index/core/utilities/sql_wrapper.py\", line 221, in run_sql\n",
            "    cursor = connection.execute(text(command))\n",
            "             ^^^^^^^^^^^^^^^^^^^^^^^^^^^^^^^^^\n",
            "  File \"/home/theebatican/anaconda3/envs/itanong/lib/python3.11/site-packages/sqlalchemy/engine/base.py\", line 1418, in execute\n",
            "    return meth(\n",
            "           ^^^^^\n",
            "  File \"/home/theebatican/anaconda3/envs/itanong/lib/python3.11/site-packages/sqlalchemy/sql/elements.py\", line 515, in _execute_on_connection\n",
            "    return connection._execute_clauseelement(\n",
            "           ^^^^^^^^^^^^^^^^^^^^^^^^^^^^^^^^^^\n",
            "  File \"/home/theebatican/anaconda3/envs/itanong/lib/python3.11/site-packages/sqlalchemy/engine/base.py\", line 1640, in _execute_clauseelement\n",
            "    ret = self._execute_context(\n",
            "          ^^^^^^^^^^^^^^^^^^^^^^\n",
            "  File \"/home/theebatican/anaconda3/envs/itanong/lib/python3.11/site-packages/sqlalchemy/engine/base.py\", line 1846, in _execute_context\n",
            "    return self._exec_single_context(\n",
            "           ^^^^^^^^^^^^^^^^^^^^^^^^^^\n",
            "  File \"/home/theebatican/anaconda3/envs/itanong/lib/python3.11/site-packages/sqlalchemy/engine/base.py\", line 1986, in _exec_single_context\n",
            "    self._handle_dbapi_exception(\n",
            "  File \"/home/theebatican/anaconda3/envs/itanong/lib/python3.11/site-packages/sqlalchemy/engine/base.py\", line 2353, in _handle_dbapi_exception\n",
            "    raise sqlalchemy_exception.with_traceback(exc_info[2]) from e\n",
            "  File \"/home/theebatican/anaconda3/envs/itanong/lib/python3.11/site-packages/sqlalchemy/engine/base.py\", line 1967, in _exec_single_context\n",
            "    self.dialect.do_execute(\n",
            "  File \"/home/theebatican/anaconda3/envs/itanong/lib/python3.11/site-packages/sqlalchemy/engine/default.py\", line 924, in do_execute\n",
            "    cursor.execute(statement, parameters)\n",
            "sqlalchemy.exc.OperationalError: (sqlite3.OperationalError) ambiguous column name: category_id\n",
            "[SQL: SELECT category_description, product_description\n",
            "FROM categories\n",
            "JOIN product_info ON categories.category_id = product_info.category_id\n",
            "ORDER BY category_id;]\n",
            "(Background on this error at: https://sqlalche.me/e/20/e3q8)\n",
            "\n",
            "The above exception was the direct cause of the following exception:\n",
            "\n",
            "Traceback (most recent call last):\n",
            "  File \"/home/theebatican/anaconda3/envs/itanong/lib/python3.11/socketserver.py\", line 317, in _handle_request_noblock\n",
            "    self.process_request(request, client_address)\n",
            "  File \"/home/theebatican/anaconda3/envs/itanong/lib/python3.11/socketserver.py\", line 348, in process_request\n",
            "    self.finish_request(request, client_address)\n",
            "  File \"/home/theebatican/anaconda3/envs/itanong/lib/python3.11/socketserver.py\", line 361, in finish_request\n",
            "    self.RequestHandlerClass(request, client_address, self)\n",
            "  File \"/home/theebatican/anaconda3/envs/itanong/lib/python3.11/socketserver.py\", line 755, in __init__\n",
            "    self.handle()\n",
            "  File \"/home/theebatican/anaconda3/envs/itanong/lib/python3.11/http/server.py\", line 436, in handle\n",
            "    self.handle_one_request()\n",
            "  File \"/home/theebatican/anaconda3/envs/itanong/lib/python3.11/http/server.py\", line 424, in handle_one_request\n",
            "    method()\n",
            "  File \"/tmp/ipykernel_22218/4030846741.py\", line 23, in do_POST\n",
            "    response = qp.run(\n",
            "               ^^^^^^^\n",
            "  File \"/home/theebatican/anaconda3/envs/itanong/lib/python3.11/site-packages/llama_index/core/query_pipeline/query.py\", line 321, in run\n",
            "    outputs, _ = self._run(\n",
            "                 ^^^^^^^^^^\n",
            "  File \"/home/theebatican/anaconda3/envs/itanong/lib/python3.11/site-packages/llama_index/core/query_pipeline/query.py\", line 673, in _run\n",
            "    result_outputs, intermediates = self._run_multi(\n",
            "                                    ^^^^^^^^^^^^^^^^\n",
            "  File \"/home/theebatican/anaconda3/envs/itanong/lib/python3.11/site-packages/llama_index/core/query_pipeline/query.py\", line 876, in _run_multi\n",
            "    output_dict = module.run_component(**module_input)\n",
            "                  ^^^^^^^^^^^^^^^^^^^^^^^^^^^^^^^^^^^^\n",
            "  File \"/home/theebatican/anaconda3/envs/itanong/lib/python3.11/site-packages/llama_index/core/base/query_pipeline/query.py\", line 199, in run_component\n",
            "    component_outputs = self._run_component(**kwargs)\n",
            "                        ^^^^^^^^^^^^^^^^^^^^^^^^^^^^^\n",
            "  File \"/home/theebatican/anaconda3/envs/itanong/lib/python3.11/site-packages/llama_index/core/base/base_retriever.py\", line 344, in _run_component\n",
            "    output = self.retriever.retrieve(kwargs[\"input\"])\n",
            "             ^^^^^^^^^^^^^^^^^^^^^^^^^^^^^^^^^^^^^^^^\n",
            "  File \"/home/theebatican/anaconda3/envs/itanong/lib/python3.11/site-packages/llama_index/core/instrumentation/dispatcher.py\", line 198, in wrapper\n",
            "    result = func(*args, **kwargs)\n",
            "             ^^^^^^^^^^^^^^^^^^^^^\n",
            "  File \"/home/theebatican/anaconda3/envs/itanong/lib/python3.11/site-packages/llama_index/core/base/base_retriever.py\", line 242, in retrieve\n",
            "    nodes = self._retrieve(query_bundle)\n",
            "            ^^^^^^^^^^^^^^^^^^^^^^^^^^^^\n",
            "  File \"/home/theebatican/anaconda3/envs/itanong/lib/python3.11/site-packages/llama_index/core/indices/struct_store/sql_retriever.py\", line 101, in _retrieve\n",
            "    retrieved_nodes, _ = self.retrieve_with_metadata(query_bundle)\n",
            "                         ^^^^^^^^^^^^^^^^^^^^^^^^^^^^^^^^^^^^^^^^^\n",
            "  File \"/home/theebatican/anaconda3/envs/itanong/lib/python3.11/site-packages/llama_index/core/indices/struct_store/sql_retriever.py\", line 85, in retrieve_with_metadata\n",
            "    raw_response_str, metadata = self._sql_database.run_sql(query_bundle.query_str)\n",
            "                                 ^^^^^^^^^^^^^^^^^^^^^^^^^^^^^^^^^^^^^^^^^^^^^^^^^^\n",
            "  File \"/home/theebatican/anaconda3/envs/itanong/lib/python3.11/site-packages/llama_index/core/utilities/sql_wrapper.py\", line 223, in run_sql\n",
            "    raise NotImplementedError(\n",
            "NotImplementedError: Statement 'SELECT category_description, product_description\\nFROM categories\\nJOIN product_info ON categories.category_id = product_info.category_id\\nORDER BY category_id;' is invalid SQL.\n",
            "----------------------------------------\n",
            "127.0.0.1 - - [08/Jun/2024 22:46:20] \"GET / HTTP/1.1\" 200 -\n"
          ]
        },
        {
          "name": "stdout",
          "output_type": "stream",
          "text": [
            "\n",
            "\n",
            "what is the average rate for coconuts?\n",
            "\u001b[1;3;38;2;155;135;227m> Running module input with input: \n",
            "query: what is the average rate for coconuts?\n",
            "\n",
            "\u001b[0m\u001b[1;3;38;2;155;135;227m> Running module table_retriever with input: \n",
            "input: what is the average rate for coconuts?\n",
            "\n",
            "\u001b[0m\u001b[1;3;38;2;155;135;227m> Running module table_output_parser with input: \n",
            "query_str: what is the average rate for coconuts?\n",
            "table_schema_objs: [SQLTableSchema(table_name='categories', context_str='Categories of fresh or dried fruits including coconuts, nuts, bananas, dates, citrus fruit, grapes, melons, apples, pears, quinces, apricots, cher...\n",
            "\n",
            "\u001b[0m\u001b[1;3;38;2;155;135;227m> Running module text2sql_prompt with input: \n",
            "query_str: what is the average rate for coconuts?\n",
            "schema: Table 'categories' has columns: category_id (INTEGER), category_description (VARCHAR), and foreign keys: . The table description is: Categories of fresh or dried fruits including coconuts, nuts, banan...\n",
            "\n",
            "\u001b[0m\u001b[1;3;38;2;155;135;227m> Running module text2sql_llm with input: \n",
            "messages: Given an input question, first create a syntactically correct sqlite query to run, then look at the results of the query and return the answer. You can order the results by a relevant column to return...\n",
            "\n",
            "\u001b[0m\u001b[1;3;38;2;155;135;227m> Running module sql_output_parser with input: \n",
            "response: assistant: SELECT AVG(rate_MFN) AS avg_rate\n",
            "FROM product_info\n",
            "WHERE product_description LIKE '%Coconuts%'\n",
            "SQLResult: \n",
            "avg_rate\n",
            "12.5\n",
            "Answer: The average tariff rate for coconuts is 12.5%.\n",
            "\n",
            "\u001b[0m\u001b[1;3;38;2;155;135;227m> Running module sql_retriever with input: \n",
            "input: SELECT AVG(rate_MFN) AS avg_rate\n",
            "FROM product_info\n",
            "WHERE product_description LIKE '%Coconuts%'\n",
            "\n",
            "\u001b[0m\u001b[1;3;38;2;155;135;227m> Running module response_synthesis_prompt with input: \n",
            "query_str: what is the average rate for coconuts?\n",
            "sql_query: SELECT AVG(rate_MFN) AS avg_rate\n",
            "FROM product_info\n",
            "WHERE product_description LIKE '%Coconuts%'\n",
            "context_str: [NodeWithScore(node=TextNode(id_='0c425b97-3127-45fa-8439-21deee5086b3', embedding=None, metadata={}, excluded_embed_metadata_keys=[], excluded_llm_metadata_keys=[], relationships={}, text='[(11.25,)]...\n",
            "\n",
            "\u001b[0m\u001b[1;3;38;2;155;135;227m> Running module response_synthesis_llm with input: \n",
            "messages: Given an input question, synthesize a response from the query results.\n",
            "Query: what is the average rate for coconuts?\n",
            "SQL: SELECT AVG(rate_MFN) AS avg_rate\n",
            "FROM product_info\n",
            "WHERE product_description L...\n",
            "\n",
            "\u001b[0m"
          ]
        },
        {
          "name": "stderr",
          "output_type": "stream",
          "text": [
            "127.0.0.1 - - [08/Jun/2024 22:46:39] \"POST / HTTP/1.1\" 200 -\n",
            "127.0.0.1 - - [08/Jun/2024 22:46:46] \"GET / HTTP/1.1\" 200 -\n"
          ]
        },
        {
          "name": "stdout",
          "output_type": "stream",
          "text": [
            "\n",
            "\n",
            "what is the average tariff rate for coconuts?\n",
            "\u001b[1;3;38;2;155;135;227m> Running module input with input: \n",
            "query: what is the average tariff rate for coconuts?\n",
            "\n",
            "\u001b[0m\u001b[1;3;38;2;155;135;227m> Running module table_retriever with input: \n",
            "input: what is the average tariff rate for coconuts?\n",
            "\n",
            "\u001b[0m\u001b[1;3;38;2;155;135;227m> Running module table_output_parser with input: \n",
            "query_str: what is the average tariff rate for coconuts?\n",
            "table_schema_objs: [SQLTableSchema(table_name='categories', context_str='Categories of fresh or dried fruits including coconuts, nuts, bananas, dates, citrus fruit, grapes, melons, apples, pears, quinces, apricots, cher...\n",
            "\n",
            "\u001b[0m\u001b[1;3;38;2;155;135;227m> Running module text2sql_prompt with input: \n",
            "query_str: what is the average tariff rate for coconuts?\n",
            "schema: Table 'categories' has columns: category_id (INTEGER), category_description (VARCHAR), and foreign keys: . The table description is: Categories of fresh or dried fruits including coconuts, nuts, banan...\n",
            "\n",
            "\u001b[0m\u001b[1;3;38;2;155;135;227m> Running module text2sql_llm with input: \n",
            "messages: Given an input question, first create a syntactically correct sqlite query to run, then look at the results of the query and return the answer. You can order the results by a relevant column to return...\n",
            "\n",
            "\u001b[0m\u001b[1;3;38;2;155;135;227m> Running module sql_output_parser with input: \n",
            "response: assistant: SELECT AVG(rate_MFN) AS avg_tariff_rate\n",
            "FROM product_info\n",
            "WHERE product_description LIKE '%Coconuts%'\n",
            "SQLResult: \n",
            "avg_tariff_rate\n",
            "12.5\n",
            "Answer: The average tariff rate for coconuts is 12.5.\n",
            "\n",
            "\u001b[0m\u001b[1;3;38;2;155;135;227m> Running module sql_retriever with input: \n",
            "input: SELECT AVG(rate_MFN) AS avg_tariff_rate\n",
            "FROM product_info\n",
            "WHERE product_description LIKE '%Coconuts%'\n",
            "\n",
            "\u001b[0m\u001b[1;3;38;2;155;135;227m> Running module response_synthesis_prompt with input: \n",
            "query_str: what is the average tariff rate for coconuts?\n",
            "sql_query: SELECT AVG(rate_MFN) AS avg_tariff_rate\n",
            "FROM product_info\n",
            "WHERE product_description LIKE '%Coconuts%'\n",
            "context_str: [NodeWithScore(node=TextNode(id_='174e2a62-8a96-4864-bb9f-f635d6385b05', embedding=None, metadata={}, excluded_embed_metadata_keys=[], excluded_llm_metadata_keys=[], relationships={}, text='[(11.25,)]...\n",
            "\n",
            "\u001b[0m\u001b[1;3;38;2;155;135;227m> Running module response_synthesis_llm with input: \n",
            "messages: Given an input question, synthesize a response from the query results.\n",
            "Query: what is the average tariff rate for coconuts?\n",
            "SQL: SELECT AVG(rate_MFN) AS avg_tariff_rate\n",
            "FROM product_info\n",
            "WHERE product...\n",
            "\n",
            "\u001b[0m"
          ]
        },
        {
          "name": "stderr",
          "output_type": "stream",
          "text": [
            "127.0.0.1 - - [08/Jun/2024 22:47:04] \"POST / HTTP/1.1\" 200 -\n"
          ]
        },
        {
          "name": "stdout",
          "output_type": "stream",
          "text": [
            "what is the tariff rate for mangoes?\n",
            "\u001b[1;3;38;2;155;135;227m> Running module input with input: \n",
            "query: what is the tariff rate for mangoes?\n",
            "\n",
            "\u001b[0m\u001b[1;3;38;2;155;135;227m> Running module table_retriever with input: \n",
            "input: what is the tariff rate for mangoes?\n",
            "\n",
            "\u001b[0m\u001b[1;3;38;2;155;135;227m> Running module table_output_parser with input: \n",
            "query_str: what is the tariff rate for mangoes?\n",
            "table_schema_objs: [SQLTableSchema(table_name='categories', context_str='Categories of fresh or dried fruits including coconuts, nuts, bananas, dates, citrus fruit, grapes, melons, apples, pears, quinces, apricots, cher...\n",
            "\n",
            "\u001b[0m\u001b[1;3;38;2;155;135;227m> Running module text2sql_prompt with input: \n",
            "query_str: what is the tariff rate for mangoes?\n",
            "schema: Table 'categories' has columns: category_id (INTEGER), category_description (VARCHAR), and foreign keys: . The table description is: Categories of fresh or dried fruits including coconuts, nuts, banan...\n",
            "\n",
            "\u001b[0m\u001b[1;3;38;2;155;135;227m> Running module text2sql_llm with input: \n",
            "messages: Given an input question, first create a syntactically correct sqlite query to run, then look at the results of the query and return the answer. You can order the results by a relevant column to return...\n",
            "\n",
            "\u001b[0m\u001b[1;3;38;2;155;135;227m> Running module sql_output_parser with input: \n",
            "response: assistant: SELECT product_info.rate_MFN, product_info.rate_ATIGA\n",
            "FROM product_info\n",
            "JOIN categories ON product_info.category_id = categories.category_id\n",
            "WHERE categories.category_description LIKE '%Man...\n",
            "\n",
            "\u001b[0m\u001b[1;3;38;2;155;135;227m> Running module sql_retriever with input: \n",
            "input: SELECT product_info.rate_MFN, product_info.rate_ATIGA\n",
            "FROM product_info\n",
            "JOIN categories ON product_info.category_id = categories.category_id\n",
            "WHERE categories.category_description LIKE '%Mangoes%'\n",
            "\n",
            "\u001b[0m\u001b[1;3;38;2;155;135;227m> Running module response_synthesis_prompt with input: \n",
            "query_str: what is the tariff rate for mangoes?\n",
            "sql_query: SELECT product_info.rate_MFN, product_info.rate_ATIGA\n",
            "FROM product_info\n",
            "JOIN categories ON product_info.category_id = categories.category_id\n",
            "WHERE categories.category_description LIKE '%Mangoes%'\n",
            "context_str: [NodeWithScore(node=TextNode(id_='d32f5638-7ce7-49d8-b8ac-db986f360cf8', embedding=None, metadata={}, excluded_embed_metadata_keys=[], excluded_llm_metadata_keys=[], relationships={}, text='[(3, 0), (...\n",
            "\n",
            "\u001b[0m\u001b[1;3;38;2;155;135;227m> Running module response_synthesis_llm with input: \n",
            "messages: Given an input question, synthesize a response from the query results.\n",
            "Query: what is the tariff rate for mangoes?\n",
            "SQL: SELECT product_info.rate_MFN, product_info.rate_ATIGA\n",
            "FROM product_info\n",
            "JOIN cat...\n",
            "\n",
            "\u001b[0m"
          ]
        },
        {
          "name": "stderr",
          "output_type": "stream",
          "text": [
            "127.0.0.1 - - [08/Jun/2024 22:47:24] \"POST / HTTP/1.1\" 200 -\n",
            "127.0.0.1 - - [08/Jun/2024 22:47:31] \"GET / HTTP/1.1\" 200 -\n"
          ]
        },
        {
          "name": "stdout",
          "output_type": "stream",
          "text": [
            "\n",
            "\n",
            "how many types of mangoes are in the system?\n",
            "\u001b[1;3;38;2;155;135;227m> Running module input with input: \n",
            "query: how many types of mangoes are in the system?\n",
            "\n",
            "\u001b[0m\u001b[1;3;38;2;155;135;227m> Running module table_retriever with input: \n",
            "input: how many types of mangoes are in the system?\n",
            "\n",
            "\u001b[0m\u001b[1;3;38;2;155;135;227m> Running module table_output_parser with input: \n",
            "query_str: how many types of mangoes are in the system?\n",
            "table_schema_objs: [SQLTableSchema(table_name='categories', context_str='Categories of fresh or dried fruits including coconuts, nuts, bananas, dates, citrus fruit, grapes, melons, apples, pears, quinces, apricots, cher...\n",
            "\n",
            "\u001b[0m\u001b[1;3;38;2;155;135;227m> Running module text2sql_prompt with input: \n",
            "query_str: how many types of mangoes are in the system?\n",
            "schema: Table 'categories' has columns: category_id (INTEGER), category_description (VARCHAR), and foreign keys: . The table description is: Categories of fresh or dried fruits including coconuts, nuts, banan...\n",
            "\n",
            "\u001b[0m\u001b[1;3;38;2;155;135;227m> Running module text2sql_llm with input: \n",
            "messages: Given an input question, first create a syntactically correct sqlite query to run, then look at the results of the query and return the answer. You can order the results by a relevant column to return...\n",
            "\n",
            "\u001b[0m\u001b[1;3;38;2;155;135;227m> Running module sql_output_parser with input: \n",
            "response: assistant: SELECT COUNT(*) \n",
            "FROM product_info \n",
            "WHERE product_description LIKE '%Mangoes%'\n",
            "SQLResult: 2\n",
            "Answer: There are 2 types of mangoes in the system.\n",
            "\n",
            "\u001b[0m\u001b[1;3;38;2;155;135;227m> Running module sql_retriever with input: \n",
            "input: SELECT COUNT(*) \n",
            "FROM product_info \n",
            "WHERE product_description LIKE '%Mangoes%'\n",
            "\n",
            "\u001b[0m\u001b[1;3;38;2;155;135;227m> Running module response_synthesis_prompt with input: \n",
            "query_str: how many types of mangoes are in the system?\n",
            "sql_query: SELECT COUNT(*) \n",
            "FROM product_info \n",
            "WHERE product_description LIKE '%Mangoes%'\n",
            "context_str: [NodeWithScore(node=TextNode(id_='7ad3137c-46f0-464b-93ae-38d41f630452', embedding=None, metadata={}, excluded_embed_metadata_keys=[], excluded_llm_metadata_keys=[], relationships={}, text='[(2,)]', s...\n",
            "\n",
            "\u001b[0m\u001b[1;3;38;2;155;135;227m> Running module response_synthesis_llm with input: \n",
            "messages: Given an input question, synthesize a response from the query results.\n",
            "Query: how many types of mangoes are in the system?\n",
            "SQL: SELECT COUNT(*) \n",
            "FROM product_info \n",
            "WHERE product_description LIKE '%Man...\n",
            "\n",
            "\u001b[0m"
          ]
        },
        {
          "name": "stderr",
          "output_type": "stream",
          "text": [
            "127.0.0.1 - - [08/Jun/2024 22:47:47] \"POST / HTTP/1.1\" 200 -\n"
          ]
        }
      ],
      "source": [
        "import http.server\n",
        "import socketserver\n",
        "\n",
        "PORT = 8001\n",
        "\n",
        "class MyRequestHandler(http.server.BaseHTTPRequestHandler):\n",
        "    def do_GET(self):\n",
        "        if self.path == '/':\n",
        "            self.send_response(200)\n",
        "            self.send_header(\"Content-type\", \"text/html\")\n",
        "            self.end_headers()\n",
        "            with open('templates/chatbot.html', 'r') as f:\n",
        "                self.wfile.write(f.read().encode())\n",
        "        else:\n",
        "            print()\n",
        "            # super().do_GET()\n",
        "\n",
        "    def do_POST(self):\n",
        "        content_length = int(self.headers['Content-Length'])\n",
        "        post_data = self.rfile.read(content_length).decode()\n",
        "        print(post_data)\n",
        "        query = post_data\n",
        "        response = qp.run(\n",
        "            query=query\n",
        "        )\n",
        "        response = str(response).split(\"assistant: \")[1].strip()\n",
        "        self.send_response(200)\n",
        "        self.send_header(\"Content-type\", \"text/html\")\n",
        "        self.end_headers()\n",
        "        self.wfile.write(f\"\"\"{response}\"\"\".encode())\n",
        "\n",
        "with socketserver.TCPServer((\"\", PORT), MyRequestHandler) as httpd:\n",
        "    print(f\"Serving at port {PORT}\")\n",
        "    httpd.serve_forever()"
      ]
    },
    {
      "cell_type": "code",
      "execution_count": null,
      "id": "a482b3a5",
      "metadata": {},
      "outputs": [],
      "source": []
    }
  ],
  "metadata": {
    "colab": {
      "provenance": []
    },
    "kernelspec": {
      "display_name": "llama_index_v2",
      "language": "python",
      "name": "llama_index_v2"
    },
    "language_info": {
      "codemirror_mode": {
        "name": "ipython",
        "version": 3
      },
      "file_extension": ".py",
      "mimetype": "text/x-python",
      "name": "python",
      "nbconvert_exporter": "python",
      "pygments_lexer": "ipython3",
      "version": "3.10.10"
    }
  },
  "nbformat": 4,
  "nbformat_minor": 5
}
