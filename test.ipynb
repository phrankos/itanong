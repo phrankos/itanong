{
 "cells": [
  {
   "cell_type": "code",
   "execution_count": 2,
   "metadata": {},
   "outputs": [
    {
     "name": "stdout",
     "output_type": "stream",
     "text": [
      "Loading a model and generating a SQL query for answering your question...\n",
      "Loading a model and generating a SQL query for answering your question...\n"
     ]
    },
    {
     "data": {
      "application/vnd.jupyter.widget-view+json": {
       "model_id": "86d785ed0b6c4d8b9c3e4193806c63b5",
       "version_major": 2,
       "version_minor": 0
      },
      "text/plain": [
       "Loading checkpoint shards:   0%|          | 0/3 [00:00<?, ?it/s]"
      ]
     },
     "metadata": {},
     "output_type": "display_data"
    },
    {
     "name": "stderr",
     "output_type": "stream",
     "text": [
      "WARNING:root:Some parameters are on the meta device device because they were offloaded to the cpu and disk.\n"
     ]
    }
   ],
   "source": [
    "import torch\n",
    "from transformers import AutoTokenizer, AutoModelForCausalLM, pipeline\n",
    "import argparse\n",
    "\n",
    "def generate_prompt(question, prompt_file=\"prompt.md\", metadata_file=\"metadata.sql\"):\n",
    "    with open(prompt_file, \"r\") as f:\n",
    "        prompt = f.read()\n",
    "    \n",
    "    with open(metadata_file, \"r\") as f:\n",
    "        table_metadata_string = f.read()\n",
    "\n",
    "    prompt = prompt.format(\n",
    "        user_question=question, table_metadata_string=table_metadata_string\n",
    "    )\n",
    "    return prompt\n",
    "\n",
    "\n",
    "def get_tokenizer_model(model_name):\n",
    "    tokenizer = AutoTokenizer.from_pretrained(model_name)\n",
    "    model = AutoModelForCausalLM.from_pretrained(\n",
    "        model_name,\n",
    "        trust_remote_code=True,\n",
    "        torch_dtype=torch.float16,\n",
    "        device_map=\"auto\",\n",
    "        use_cache=True,\n",
    "    )\n",
    "    return tokenizer, model\n",
    "\n",
    "def run_inference(question, prompt_file=\"prompt.md\", metadata_file=\"metadata.sql\"):\n",
    "    tokenizer, model = get_tokenizer_model(\"defog/sqlcoder-7b-2\")\n",
    "    prompt = generate_prompt(question, prompt_file, metadata_file)\n",
    "    \n",
    "    # make sure the model stops generating at triple ticks\n",
    "    # eos_token_id = tokenizer.convert_tokens_to_ids([\"```\"])[0]\n",
    "    eos_token_id = tokenizer.eos_token_id\n",
    "    pipe = pipeline(\n",
    "        \"text-generation\",\n",
    "        model=model,\n",
    "        tokenizer=tokenizer,\n",
    "        max_new_tokens=300,\n",
    "        do_sample=False,\n",
    "        return_full_text=False, # added return_full_text parameter to prevent splitting issues with prompt\n",
    "        num_beams=5, # do beam search with 5 beams for high quality results\n",
    "    )\n",
    "    generated_query = (\n",
    "        pipe(\n",
    "            prompt,\n",
    "            num_return_sequences=1,\n",
    "            eos_token_id=eos_token_id,\n",
    "            pad_token_id=eos_token_id,\n",
    "        )[0][\"generated_text\"]\n",
    "        .split(\";\")[0]\n",
    "        .split(\"```\")[0]\n",
    "        .strip()\n",
    "        + \";\"\n",
    "    )\n",
    "    return generated_query\n",
    "\n",
    "if __name__ == \"__main__\":\n",
    "    # Get question from user\n",
    "    question = input(\"Please enter your question: \")\n",
    "    print(\"Loading a model and generating a SQL query for answering your question...\")\n",
    "\n",
    "    parser = argparse.ArgumentParser(description=\"Run inference on a question\")\n",
    "    print(\"Loading a model and generating a SQL query for answering your question...\")\n",
    "    print(run_inference(question,metadata_file=\"itanong.sql\"))"
   ]
  }
 ],
 "metadata": {
  "kernelspec": {
   "display_name": "itanong",
   "language": "python",
   "name": "python3"
  },
  "language_info": {
   "name": "python",
   "version": "3.11.9"
  }
 },
 "nbformat": 4,
 "nbformat_minor": 2
}
